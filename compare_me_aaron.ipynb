{
 "cells": [
  {
   "cell_type": "code",
   "execution_count": 93,
   "metadata": {},
   "outputs": [],
   "source": [
    "from NSBM_functions import *"
   ]
  },
  {
   "cell_type": "code",
   "execution_count": 94,
   "metadata": {},
   "outputs": [
    {
     "name": "stdout",
     "output_type": "stream",
     "text": [
      "[-1245.59931005   752.09134181  6500.13553492]\n",
      "283.0000000000018\n",
      "7598.593642757243 164.96827627231005 1425.7791509032206\n",
      "7732.9610154893035\n",
      "catastrophic collision\n",
      "Ejected Mass initial calc:  750\n",
      "first loop\n",
      "N_tot: 560\n",
      "M_tot:  294.02137047815165\n",
      "normalizing\n",
      "True\n",
      "Number of debris:  1389\n",
      "Total mass of debris: 772.66790609449\n",
      "normalizing\n",
      "True\n",
      "Number of debris:  1291\n",
      "Total mass of debris: 740.4932099316827\n",
      "making velocities\n"
     ]
    }
   ],
   "source": [
    "nbins = 100\n",
    "event = 'India'\n",
    "Lc_min = 0.11\n",
    "Lc_max = 1.0\n",
    "np.random.seed(314)\n",
    "if event == 'India':\n",
    "    mtarget = 740\n",
    "    mkill = 10\n",
    "    vkill = 3.4e3\n",
    "    Q = 288.7 + REkm\n",
    "    q = 267.4 + REkm\n",
    "    r = 283 + REkm\n",
    "    a = (Q + q) * 1000 / 2\n",
    "    vr = np.sqrt(G * (Mearthkg + mtarget) * (2/(r*1000) - 1/a))\n",
    "    inc = 96.6 * np.pi / 180\n",
    "    omega = 17 * np.pi / 180\n",
    "    \n",
    "vtarget, rtarget = get_target_params(mtarget, vr, r, Q, inc, omega)\n",
    "N_tot, L_mids, nums, mfrags, vfrags, vfrags, vfrags_total, eccs, SMA, AMfrags, AMfrags, Lcvals, Lcvals = vel_dis_NBM(mtarget, mkill, vkill, vtarget, \n",
    "                                                                                                                     rtarget, nbins, Lc_min, Lc_max, \n",
    "                130e6, 5000, makev=True)\n"
   ]
  },
  {
   "cell_type": "code",
   "execution_count": 103,
   "metadata": {},
   "outputs": [
    {
     "data": {
      "text/plain": [
       "1.6000480765619389e-06"
      ]
     },
     "execution_count": 103,
     "metadata": {},
     "output_type": "execute_result"
    }
   ],
   "source": [
    "(Q-q)/(2*a)"
   ]
  },
  {
   "cell_type": "code",
   "execution_count": 91,
   "metadata": {},
   "outputs": [
    {
     "data": {
      "text/plain": [
       "(-3.5, 4)"
      ]
     },
     "execution_count": 91,
     "metadata": {},
     "output_type": "execute_result"
    },
    {
     "data": {
      "image/png": "[encoded data removed]",
      "text/plain": [
       "<Figure size 432x288 with 1 Axes>"
      ]
     },
     "metadata": {
      "needs_background": "light"
     },
     "output_type": "display_data"
    }
   ],
   "source": [
    "plt.hist(np.log10(AMfrags), bins=30);\n",
    "plt.xlim(-3.5,4)"
   ]
  },
  {
   "cell_type": "code",
   "execution_count": 80,
   "metadata": {},
   "outputs": [
    {
     "data": {
      "text/plain": [
       "(0, 7)"
      ]
     },
     "execution_count": 80,
     "metadata": {},
     "output_type": "execute_result"
    },
    {
     "data": {
      "image/png": "[encoded data removed]",
      "text/plain": [
       "<Figure size 432x288 with 1 Axes>"
      ]
     },
     "metadata": {
      "needs_background": "light"
     },
     "output_type": "display_data"
    }
   ],
   "source": [
    "plt.hist(np.log10(np.linalg.norm(vfrags, axis=1)), bins=100);\n",
    "plt.xlim(0, 7)"
   ]
  },
  {
   "cell_type": "code",
   "execution_count": 61,
   "metadata": {},
   "outputs": [],
   "source": [
    "import numpy as np\n",
    "\n",
    "def nsbm(Mc=1000,beta=1.71,minL=1e-2,maxL=1.,LDIV=100,LNUM=100000,flagL=1e-1,NCHIMIN=-4,NCHIMAX=4,NCHI=1000,PLOT=False):\n",
    "    k = 0.1*(Mc)**0.75\n",
    "    NL = k*minL**(-beta) - k*maxL**(-beta)\n",
    "\n",
    "    LNUM = min(int(NL),LNUM)\n",
    "\n",
    "\n",
    "    print(\"Expected number of fragments {} that are > {} m\".format(NL,minL))\n",
    "\n",
    "    minlam = np.log10(minL)\n",
    "    maxlam = np.log10(maxL)\n",
    "\n",
    "    dlam = (np.log10(maxL) - np.log10(minL) )/LDIV\n",
    "\n",
    "#lam = np.zeros(LDIV)\n",
    "#lam_edge = np.zeros((LDIV+1))\n",
    "\n",
    "#dN = np.zeros(LDIV)\n",
    "\n",
    "#for l in range(LDIV+1):\n",
    "#  lam_edge[l] = minlam_log + dlam*l\n",
    "\n",
    "#L_edge = 10.**(lam_edge)\n",
    "#L = np.zeros(LDIV)\n",
    "#pL = np.zeros(LDIV)\n",
    "\n",
    "#for i in range(LDIV):\n",
    "#   lam[i] = 0.5*(lam_edge[i]+lam_edge[i+1])\n",
    "#   L[i] = 10**lam[i]\n",
    "#   dN[i] = -k*(L_edge[i+1])**(-beta) + k*(L_edge[i])**(-beta)\n",
    "#   pL[i] = beta*L[i]**(-(beta+1))/(minL**(-beta) - maxL**(-beta) ) * (L_edge[i+1]-L_edge[i])\n",
    "\n",
    "    lam = np.zeros(LNUM)\n",
    "\n",
    "    for l in range(LNUM):\n",
    "      P = np.random.uniform()\n",
    "      lam[l] = - np.log10( 10**(-beta*minlam) - P * (10**(-beta*minlam)-10**(-beta*maxlam)))/beta\n",
    "\n",
    "    L = 10**(lam)\n",
    "\n",
    "    def Pchi_lam(L,lam,NCHI,CHIMIN,CHIMAX):\n",
    "\n",
    "       chisamp = np.linspace(CHIMIN,CHIMAX,NCHI)\n",
    "       psamp = np.zeros(NCHI)\n",
    " \n",
    "\n",
    "       def large(lam):\n",
    "           if lam <= -1.95: a1 = 0.\n",
    "           elif -1.95 < lam < 0.55: a1 = 0.3+0.4*(lam+1.2)\n",
    "           else: a1=1.\n",
    "\n",
    "           if lam <= -1.1: mx1 = -0.6\n",
    "           elif -1.1 < lam < 0: mx1 = -0.6 -0.318*(lam+1.1)\n",
    "           else: mx1 -0.95\n",
    "\n",
    "           if lam <= -1.3: sx1 = 0.1\n",
    "           elif -1.3 < lam < -0.3: sx1 = 0.1 + 0.2*(lam+1.3)\n",
    "           else: sx1 = 0.3\n",
    "\n",
    "           a2 = 1-a1\n",
    "\n",
    "           if lam <=-0.7: mx2 = -1.2\n",
    "           elif -0.7 < lam < -0.1: mx2 = -1.2 -1.333*(lam+0.7)\n",
    "           else: mx2= -2.0\n",
    "\n",
    "           if lam <= -0.5: sx2 = 0.5\n",
    "           elif -0.5 < lam < -0.3: sx2 = 0.5 - (lam+0.5)\n",
    "           else: sx2 = 0.3\n",
    "\n",
    "           return a1,mx1,sx1,a2,mx2,sx2\n",
    "\n",
    "\n",
    "       def small(lam):\n",
    "           a1 = 1.\n",
    "           a2 = 0.\n",
    "\n",
    "           if lam<= -1.75: mx1 = -0.3\n",
    "           elif -1.75 < lam < -1.25: mx1 = -0.3 - 1.4*(lam+1.75)\n",
    "           else: mx1 = -1\n",
    "\n",
    "      \n",
    "           if lam <= -3.5: sx1 = 0.2\n",
    "           else: sx1 = 0.2+0.1333*(lam+3.5)\n",
    "\n",
    "\n",
    "           return a1,mx1,sx1,a2,0.,0.\n",
    "\n",
    "\n",
    "       def alpha_trans(lam):\n",
    "           lam_l = -1.09691\n",
    "           lam_u = -0.9586073\n",
    "           return (lam-lam_l)/(lam_u-lam_l)\n",
    "\n",
    "\n",
    "       def normal(x,mu,sig):\n",
    "           return (np.exp(-((x-mu)/(sig))**2/2)/(np.sqrt(2*np.pi)*sig) )\n",
    "\n",
    "       for c in range(NCHI):\n",
    "\n",
    "           #print(\"chisamp = {}\".format(chisamp[c]))\n",
    "           if L > 0.11: \n",
    "             a1,mx1,sx1,a2,mx2,sx2 = large(lam)\n",
    "             px = a1*normal(chisamp[c],mx1,sx1)\n",
    "             px+= a2*normal(chisamp[c],mx2,sx2)\n",
    "           elif L < 0.08:\n",
    "             a1,mx1,sx1,a2,mx2,sx2 = small(lam)\n",
    "             #print(a1,mx1,sx1)\n",
    "             px = a1*normal(chisamp[c],mx1,sx1)\n",
    "           else:\n",
    "             alam = alpha_trans(lam)\n",
    "             a1l,mx1l,sx1l,a2l,mx2l,sx2l = large(lam)\n",
    "             a1s,mx1s,sx1s,a2s,mx2s,sx2s = small(lam)\n",
    "        \n",
    "             pxl = a1l*np.random.normal(mx1l,sx1l)+a2l*np.random.normal(mx2l,sx2l)\n",
    "             pxs = a1s*np.random.normal(mx1s,sx1s)\n",
    "\n",
    "             px = pxl*alam + (1-alam)*pxs\n",
    "\n",
    "           psamp[c]=px*1\n",
    "   \n",
    "       psum = np.zeros(NCHI)\n",
    "       psum[0]=psamp[0]*1\n",
    "\n",
    "       for c in range(1,NCHI):\n",
    "          psum[c] = psum[c-1] + psamp[c]       \n",
    " \n",
    "       norm = psum[-1]\n",
    "       #print(norm)\n",
    "       psum = psum/norm\n",
    "\n",
    "       P = np.random.uniform()\n",
    "       idx = np.abs(psum-P).argmin()\n",
    "\n",
    "       return chisamp[idx]\n",
    "\n",
    "\n",
    "    def vdistro(chi):\n",
    "       n = len(chi)\n",
    "       v=np.zeros(n)\n",
    "       sig = 0.4\n",
    "       for i in range(n):\n",
    "           mu  = 0.9*chi[i] + 2.9\n",
    "           v[i] = np.random.normal(mu,sig)\n",
    "       return v\n",
    "\n",
    "    chi=np.zeros(LNUM)\n",
    "    for i in range(LNUM):\n",
    "       chi[i] = Pchi_lam(L[i],lam[i],NCHI,NCHIMIN,NCHIMAX)\n",
    "\n",
    "    deltav_log = vdistro(chi)\n",
    "    deltav = 10**deltav_log\n",
    "    #print(deltav)\n",
    "\n",
    "    flag = L > flagL\n",
    "\n",
    "    print(\"Number of L > {} is {}\".format(np.sum(flag),flagL))\n",
    "\n",
    "    if PLOT:\n",
    "        hc,edgesc = np.histogram(chi[flag],100)\n",
    "        hv,edgesv = np.histogram(deltav_log[flag],100)\n",
    "\n",
    "        import matplotlib.pylab as plt\n",
    "\n",
    "        plt.figure()\n",
    "        plt.step(edgesc[0:-1],hc)\n",
    "        plt.xlabel(r\"Chi [log10 A/M($m^2/kg$)] \")\n",
    "        plt.ylabel(\"Number\")\n",
    "        plt.xlim(-3,2)\n",
    "        plt.savefig(\"distro_chi.png\",dpi=300)\n",
    "\n",
    "        plt.figure()\n",
    "        plt.step(edgesv[0:-1],hv)\n",
    "        plt.xlabel(r\"Log10 Delta V(m/s)\")\n",
    "        plt.ylabel(\"Number\")\n",
    "        plt.xlim(-1,4)\n",
    "        plt.savefig(\"distro_v.png\",dpi=300)\n",
    "\n",
    "        plt.show()\n",
    "\n",
    "    return deltav,chi,L\n",
    "\n",
    "#print(NL,np.sum(dN),np.sum(pL))\n",
    "   \n"
   ]
  },
  {
   "cell_type": "code",
   "execution_count": 63,
   "metadata": {},
   "outputs": [
    {
     "name": "stdout",
     "output_type": "stream",
     "text": [
      "Expected number of fragments 37304.278457473316 that are > 0.01 m\n"
     ]
    },
    {
     "ename": "KeyboardInterrupt",
     "evalue": "",
     "output_type": "error",
     "traceback": [
      "\u001b[0;31m---------------------------------------------------------------------------\u001b[0m",
      "\u001b[0;31mKeyboardInterrupt\u001b[0m                         Traceback (most recent call last)",
      "\u001b[0;32m<ipython-input-63-0f4daa7ac2cc>\u001b[0m in \u001b[0;36m<module>\u001b[0;34m\u001b[0m\n\u001b[1;32m     61\u001b[0m \u001b[0mnp\u001b[0m\u001b[0;34m.\u001b[0m\u001b[0mrandom\u001b[0m\u001b[0;34m.\u001b[0m\u001b[0mseed\u001b[0m\u001b[0;34m(\u001b[0m\u001b[0mSEED\u001b[0m\u001b[0;34m)\u001b[0m\u001b[0;34m\u001b[0m\u001b[0;34m\u001b[0m\u001b[0m\n\u001b[1;32m     62\u001b[0m \u001b[0;34m\u001b[0m\u001b[0m\n\u001b[0;32m---> 63\u001b[0;31m \u001b[0mdeltaV\u001b[0m\u001b[0;34m,\u001b[0m\u001b[0mchi\u001b[0m\u001b[0;34m,\u001b[0m\u001b[0mL\u001b[0m \u001b[0;34m=\u001b[0m \u001b[0mnsbm\u001b[0m\u001b[0;34m(\u001b[0m\u001b[0mminL\u001b[0m\u001b[0;34m=\u001b[0m\u001b[0mminL\u001b[0m\u001b[0;34m,\u001b[0m\u001b[0mNCHI\u001b[0m\u001b[0;34m=\u001b[0m\u001b[0mNCHI\u001b[0m\u001b[0;34m,\u001b[0m\u001b[0mMc\u001b[0m\u001b[0;34m=\u001b[0m\u001b[0mMc\u001b[0m\u001b[0;34m,\u001b[0m\u001b[0mPLOT\u001b[0m\u001b[0;34m=\u001b[0m\u001b[0;32mTrue\u001b[0m\u001b[0;34m)\u001b[0m\u001b[0;34m\u001b[0m\u001b[0;34m\u001b[0m\u001b[0m\n\u001b[0m",
      "\u001b[0;32m<ipython-input-61-3f238a3802ec>\u001b[0m in \u001b[0;36mnsbm\u001b[0;34m(Mc, beta, minL, maxL, LDIV, LNUM, flagL, NCHIMIN, NCHIMAX, NCHI, PLOT)\u001b[0m\n\u001b[1;32m    148\u001b[0m     \u001b[0mchi\u001b[0m\u001b[0;34m=\u001b[0m\u001b[0mnp\u001b[0m\u001b[0;34m.\u001b[0m\u001b[0mzeros\u001b[0m\u001b[0;34m(\u001b[0m\u001b[0mLNUM\u001b[0m\u001b[0;34m)\u001b[0m\u001b[0;34m\u001b[0m\u001b[0;34m\u001b[0m\u001b[0m\n\u001b[1;32m    149\u001b[0m     \u001b[0;32mfor\u001b[0m \u001b[0mi\u001b[0m \u001b[0;32min\u001b[0m \u001b[0mrange\u001b[0m\u001b[0;34m(\u001b[0m\u001b[0mLNUM\u001b[0m\u001b[0;34m)\u001b[0m\u001b[0;34m:\u001b[0m\u001b[0;34m\u001b[0m\u001b[0;34m\u001b[0m\u001b[0m\n\u001b[0;32m--> 150\u001b[0;31m        \u001b[0mchi\u001b[0m\u001b[0;34m[\u001b[0m\u001b[0mi\u001b[0m\u001b[0;34m]\u001b[0m \u001b[0;34m=\u001b[0m \u001b[0mPchi_lam\u001b[0m\u001b[0;34m(\u001b[0m\u001b[0mL\u001b[0m\u001b[0;34m[\u001b[0m\u001b[0mi\u001b[0m\u001b[0;34m]\u001b[0m\u001b[0;34m,\u001b[0m\u001b[0mlam\u001b[0m\u001b[0;34m[\u001b[0m\u001b[0mi\u001b[0m\u001b[0;34m]\u001b[0m\u001b[0;34m,\u001b[0m\u001b[0mNCHI\u001b[0m\u001b[0;34m,\u001b[0m\u001b[0mNCHIMIN\u001b[0m\u001b[0;34m,\u001b[0m\u001b[0mNCHIMAX\u001b[0m\u001b[0;34m)\u001b[0m\u001b[0;34m\u001b[0m\u001b[0;34m\u001b[0m\u001b[0m\n\u001b[0m\u001b[1;32m    151\u001b[0m \u001b[0;34m\u001b[0m\u001b[0m\n\u001b[1;32m    152\u001b[0m     \u001b[0mdeltav_log\u001b[0m \u001b[0;34m=\u001b[0m \u001b[0mvdistro\u001b[0m\u001b[0;34m(\u001b[0m\u001b[0mchi\u001b[0m\u001b[0;34m)\u001b[0m\u001b[0;34m\u001b[0m\u001b[0;34m\u001b[0m\u001b[0m\n",
      "\u001b[0;32m<ipython-input-61-3f238a3802ec>\u001b[0m in \u001b[0;36mPchi_lam\u001b[0;34m(L, lam, NCHI, CHIMIN, CHIMAX)\u001b[0m\n\u001b[1;32m    106\u001b[0m              \u001b[0mpx\u001b[0m\u001b[0;34m+=\u001b[0m \u001b[0ma2\u001b[0m\u001b[0;34m*\u001b[0m\u001b[0mnormal\u001b[0m\u001b[0;34m(\u001b[0m\u001b[0mchisamp\u001b[0m\u001b[0;34m[\u001b[0m\u001b[0mc\u001b[0m\u001b[0;34m]\u001b[0m\u001b[0;34m,\u001b[0m\u001b[0mmx2\u001b[0m\u001b[0;34m,\u001b[0m\u001b[0msx2\u001b[0m\u001b[0;34m)\u001b[0m\u001b[0;34m\u001b[0m\u001b[0;34m\u001b[0m\u001b[0m\n\u001b[1;32m    107\u001b[0m            \u001b[0;32melif\u001b[0m \u001b[0mL\u001b[0m \u001b[0;34m<\u001b[0m \u001b[0;36m0.08\u001b[0m\u001b[0;34m:\u001b[0m\u001b[0;34m\u001b[0m\u001b[0;34m\u001b[0m\u001b[0m\n\u001b[0;32m--> 108\u001b[0;31m              \u001b[0ma1\u001b[0m\u001b[0;34m,\u001b[0m\u001b[0mmx1\u001b[0m\u001b[0;34m,\u001b[0m\u001b[0msx1\u001b[0m\u001b[0;34m,\u001b[0m\u001b[0ma2\u001b[0m\u001b[0;34m,\u001b[0m\u001b[0mmx2\u001b[0m\u001b[0;34m,\u001b[0m\u001b[0msx2\u001b[0m \u001b[0;34m=\u001b[0m \u001b[0msmall\u001b[0m\u001b[0;34m(\u001b[0m\u001b[0mlam\u001b[0m\u001b[0;34m)\u001b[0m\u001b[0;34m\u001b[0m\u001b[0;34m\u001b[0m\u001b[0m\n\u001b[0m\u001b[1;32m    109\u001b[0m              \u001b[0;31m#print(a1,mx1,sx1)\u001b[0m\u001b[0;34m\u001b[0m\u001b[0;34m\u001b[0m\u001b[0;34m\u001b[0m\u001b[0m\n\u001b[1;32m    110\u001b[0m              \u001b[0mpx\u001b[0m \u001b[0;34m=\u001b[0m \u001b[0ma1\u001b[0m\u001b[0;34m*\u001b[0m\u001b[0mnormal\u001b[0m\u001b[0;34m(\u001b[0m\u001b[0mchisamp\u001b[0m\u001b[0;34m[\u001b[0m\u001b[0mc\u001b[0m\u001b[0;34m]\u001b[0m\u001b[0;34m,\u001b[0m\u001b[0mmx1\u001b[0m\u001b[0;34m,\u001b[0m\u001b[0msx1\u001b[0m\u001b[0;34m)\u001b[0m\u001b[0;34m\u001b[0m\u001b[0;34m\u001b[0m\u001b[0m\n",
      "\u001b[0;32m<ipython-input-61-3f238a3802ec>\u001b[0m in \u001b[0;36msmall\u001b[0;34m(lam)\u001b[0m\n\u001b[1;32m     78\u001b[0m \u001b[0;34m\u001b[0m\u001b[0m\n\u001b[1;32m     79\u001b[0m            \u001b[0;32mif\u001b[0m \u001b[0mlam\u001b[0m\u001b[0;34m<=\u001b[0m \u001b[0;34m-\u001b[0m\u001b[0;36m1.75\u001b[0m\u001b[0;34m:\u001b[0m \u001b[0mmx1\u001b[0m \u001b[0;34m=\u001b[0m \u001b[0;34m-\u001b[0m\u001b[0;36m0.3\u001b[0m\u001b[0;34m\u001b[0m\u001b[0;34m\u001b[0m\u001b[0m\n\u001b[0;32m---> 80\u001b[0;31m            \u001b[0;32melif\u001b[0m \u001b[0;34m-\u001b[0m\u001b[0;36m1.75\u001b[0m \u001b[0;34m<\u001b[0m \u001b[0mlam\u001b[0m \u001b[0;34m<\u001b[0m \u001b[0;34m-\u001b[0m\u001b[0;36m1.25\u001b[0m\u001b[0;34m:\u001b[0m \u001b[0mmx1\u001b[0m \u001b[0;34m=\u001b[0m \u001b[0;34m-\u001b[0m\u001b[0;36m0.3\u001b[0m \u001b[0;34m-\u001b[0m \u001b[0;36m1.4\u001b[0m\u001b[0;34m*\u001b[0m\u001b[0;34m(\u001b[0m\u001b[0mlam\u001b[0m\u001b[0;34m+\u001b[0m\u001b[0;36m1.75\u001b[0m\u001b[0;34m)\u001b[0m\u001b[0;34m\u001b[0m\u001b[0;34m\u001b[0m\u001b[0m\n\u001b[0m\u001b[1;32m     81\u001b[0m            \u001b[0;32melse\u001b[0m\u001b[0;34m:\u001b[0m \u001b[0mmx1\u001b[0m \u001b[0;34m=\u001b[0m \u001b[0;34m-\u001b[0m\u001b[0;36m1\u001b[0m\u001b[0;34m\u001b[0m\u001b[0;34m\u001b[0m\u001b[0m\n\u001b[1;32m     82\u001b[0m \u001b[0;34m\u001b[0m\u001b[0m\n",
      "\u001b[0;31mKeyboardInterrupt\u001b[0m: "
     ]
    }
   ],
   "source": [
    "import matplotlib.pylab as plt\n",
    "import numpy as np\n",
    "\n",
    "Re=6378\n",
    "Rcutoff = Re+200\n",
    "Rhigh = 42000\n",
    "Q=( 290+Re)*1e3\n",
    "rStrike = (290+Re)*1e3\n",
    "minL=0.01\n",
    "SEED=314\n",
    "NCHI=10000\n",
    "Mc=740.\n",
    "\n",
    "\n",
    "GM=6.67e-11*5.974e24\n",
    "\n",
    "VQ = np.sqrt(GM/Q)\n",
    "\n",
    "def vtheta(nu,a,ecc,GM):\n",
    "  return np.sqrt(GM/(a*(1-ecc*ecc)))*(1+ecc*np.cos(nu))   \n",
    "\n",
    "\n",
    "def vrad(nu,a,ecc,GM):\n",
    "  return np.sqrt(GM/(a*(1-ecc*ecc)))*ecc*np.sin(nu)\n",
    "\n",
    "def radius(nu,a,ecc):\n",
    "   return a*(1-ecc*ecc)/(1+ecc*np.cos(nu))\n",
    "\n",
    "def sma(v,GM,r):\n",
    "    v2 = (v[0]*v[0]+v[1]*v[1]+v[2]*v[2])\n",
    "    return GM*r/(2*GM-v2*r)\n",
    "\n",
    "def eccVector(v,GM,r):\n",
    "    v = np.array(v)\n",
    "    r = np.array(r)\n",
    "    v2 = (v[0]*v[0]+v[1]*v[1]+v[2]*v[2])\n",
    "    rdotv = r[0]*v[0]+r[1]*v[1]+r[2]*v[2]\n",
    "    rmag = np.sqrt(r[0]*r[0]+r[1]*r[1]+r[2]*r[2])\n",
    "    return (v2/GM - 1/rmag)*r - rdotv/GM*v\n",
    "\n",
    "def period(a,GM):\n",
    "    return 2*np.pi*np.sqrt(a**3/GM)\n",
    "\n",
    "def dNdl(l0,l1,M,BINS):\n",
    "    BINS=int(BINS)\n",
    "    dN=np.zeros(BINS)\n",
    "    dM=np.zeros(BINS)\n",
    "    edges = 10**(np.log10(l0)+(np.log10(l1)-np.log10(l0))/BINS*np.array(range(0,BINS+1)))\n",
    "    cum=0\n",
    "    mass=0\n",
    "    for i in range(BINS):\n",
    "      dN[i] = -0.171*M**0.75*(edges[i+1]**(-2.71)-edges[i]**-2.71)\n",
    "      dM[i]=2700*dN[i]*(edges[i+1]+edges[i])**3*np.pi/48\n",
    "      mass+=dM[i]\n",
    "      cum+=dN[i]\n",
    "    cum=cum*M/mass\n",
    "    dN=dN*M/mass\n",
    "    dM=dM*M/mass\n",
    "    return dN,dM,edges,cum,M\n",
    "\n",
    "np.random.seed(SEED)\n",
    "\n",
    "deltaV,chi,L = nsbm(minL=minL,NCHI=NCHI,Mc=Mc,PLOT=True)\n"
   ]
  },
  {
   "cell_type": "code",
   "execution_count": 27,
   "metadata": {},
   "outputs": [
    {
     "name": "stdout",
     "output_type": "stream",
     "text": [
      "Initial SMA 6668.0 km or altitude 290.0 km and ecc -2.220446049250313e-16\n",
      "At strike DNU 1.5707963267948966 NU 4.71238898038469 altitude 290.0 km VT 7.730324599673467 km/s VR 1.7164768716767458e-15 km/s, V 7.730324599673467 km/s\n",
      "Total that suffer immediate de-orbit 297 \n",
      "Total number in cutoff range is 407 out of 713\n",
      "Total number with Q < 20000 km 407 out of 407\n"
     ]
    },
    {
     "data": {
      "image/png": "[encoded data removed]",
      "text/plain": [
       "<Figure size 432x288 with 1 Axes>"
      ]
     },
     "metadata": {
      "needs_background": "light"
     },
     "output_type": "display_data"
    },
    {
     "data": {
      "image/png": "[encoded data removed]",
      "text/plain": [
       "<Figure size 432x288 with 1 Axes>"
      ]
     },
     "metadata": {
      "needs_background": "light"
     },
     "output_type": "display_data"
    }
   ],
   "source": [
    "\n",
    "ecc = 1 - VQ**2*Q/GM\n",
    "\n",
    "a0 = Q*GM/(2*GM-VQ**2*Q)\n",
    "\n",
    "print(\"Initial SMA {} km or altitude {} km and ecc {}\".format(a0/1e3,a0/1e3-Re,ecc))\n",
    "\n",
    "nu = np.arccos( (a0*(1-ecc*ecc)/rStrike - 1)/ecc )\n",
    "\n",
    "if nu < np.pi: \n",
    "   dnu = np.pi-nu\n",
    "   nu = np.pi+dnu\n",
    "else: dnu=nu-np.pi\n",
    "\n",
    "\n",
    "vt = vtheta(nu,a0,ecc,GM)\n",
    "vr = vrad(nu,a0,ecc,GM)\n",
    "\n",
    "print(\"At strike DNU {} NU {} altitude {} km VT {} km/s VR {} km/s, V {} km/s\".format(dnu,nu,radius(nu,a0,ecc)/1e3-Re,vt/1e3,vr/1e3,np.sqrt(vr*vr+vt*vt)/1e3))\n",
    "\n",
    "\n",
    "colat = nu-np.pi\n",
    "\n",
    "vy0 = vr*np.cos(colat) - vt*np.sin(colat)\n",
    "vx0 = vr*np.sin(colat) + vt*np.cos(colat)\n",
    "vz0 = 0\n",
    "\n",
    "r0 = radius(nu,a0,ecc)\n",
    "\n",
    "x0 = r0*np.sin(colat) \n",
    "y0 = r0*np.cos(colat)\n",
    "z0 = 0\n",
    "\n",
    "NPERT = len(deltaV)\n",
    "\n",
    "\n",
    "#### WRONG\n",
    "#dvx = np.random.uniform(-1,1,NPERT)\n",
    "#dvy = np.random.uniform(-1,1,NPERT)\n",
    "#dvz = np.random.uniform(-1,1,NPERT)\n",
    "#\n",
    "#### CORRECT for spherical distro\n",
    "#costheta = np.random.uniform(-1,1,NPERT)\n",
    "#theta = np.arccos(costheta)\n",
    "#phi = np.random.uniform(0,1,NPERT)*2*np.pi\n",
    "#I = np.arange(0,NPERT,1)\n",
    "#Gratio = (1+np.sqrt(5))/2\n",
    "#theta = np.arccos(2*I/(NPERT)-1)\n",
    "#phi = 2*np.pi*I/Gratio\n",
    "#dvx = np.cos(phi)*np.sin(theta) \n",
    "#dvy = np.sin(phi)*np.sin(theta)\n",
    "#dvz = np.cos(theta)\n",
    "####\n",
    "#### AWESOME\n",
    "dvx = np.random.normal(0,1,NPERT)\n",
    "dvy = np.random.normal(0,1,NPERT)\n",
    "dvz = np.random.normal(0,1,NPERT)\n",
    "####\n",
    "\n",
    "norms = np.sqrt(dvx**2+dvy**2+dvz**2)\n",
    "\n",
    "vx = vx0 + dvx/norms*deltaV\n",
    "vy = vy0 + dvy/norms*deltaV\n",
    "vz = vz0 + dvz/norms*deltaV\n",
    "\n",
    "eccFrags=np.zeros(NPERT)\n",
    "smaFrags=np.zeros(NPERT)\n",
    "periods=np.zeros(NPERT)\n",
    "for i in range(NPERT):\n",
    "   v=[vx[i],vy[i],vz[i]]\n",
    "   x=[x0,y0,z0]\n",
    "   eccVecs = eccVector(v,GM,x)\n",
    "   eccFrags[i] = np.sqrt(eccVecs[0]**2+eccVecs[1]**2+eccVecs[2]**2)\n",
    "   smaFrags[i] = sma(v,GM,r0)\n",
    "   if smaFrags[i]<0: continue\n",
    "   periods[i]=period(smaFrags[i],GM)/60\n",
    "\n",
    "q = smaFrags*(1-eccFrags)\n",
    "Q = smaFrags*(1+eccFrags)\n",
    "plt.figure()\n",
    "flag0 = (q/1e3<Rcutoff) \n",
    "print(\"Total that suffer immediate de-orbit {} \".format(np.sum(flag0)))\n",
    "flag = (q/1e3>Rcutoff) & (Q/1e3>Rcutoff) & (Q/1e3<Rhigh)\n",
    "print(\"Total number in cutoff range is {} out of {}\".format(np.sum(flag),len(flag)))\n",
    "plt.ylim(0,4000)\n",
    "plt.xlim(91,130)\n",
    "plt.xlabel(\"Period [min]\")\n",
    "plt.ylabel(\"Altitude [km]\")\n",
    "perLEO = periods[flag]\n",
    "qLEO = q[flag]/1e3-Re\n",
    "QLEO = Q[flag]/1e3-Re\n",
    "aLEO = smaFrags[flag]/1e3-Re\n",
    "\n",
    "flag = QLEO < 20000\n",
    "print(\"Total number with Q < 20000 km {} out of {}\".format(np.sum(flag),len(flag)))\n",
    "plt.scatter(perLEO[flag],qLEO[flag],s=8,c=\"red\")\n",
    "plt.scatter(perLEO[flag],QLEO[flag],s=8,c=\"blue\")\n",
    "plt.title(\"Microsat2 ASAT Weapon Demise, L>0.1m\")\n",
    "#plt.savefig(\"radarsat2_L0p01_gabbard.png\",dpi=300)\n",
    "\n",
    "bins=range(200,2001,10)\n",
    "plt.figure()\n",
    "plt.hist(aLEO,bins=bins)\n",
    "plt.ylabel(\"Number per bin\")\n",
    "plt.xlabel(\"Altitude [km]\")\n",
    "plt.title(\"Microsat2 ASAT Weapon Demise, L>0.1m\")\n",
    "#plt.savefig(\"radarsat2_L0p01_smahist.png\",dpi=300)\n",
    "\n",
    "\n",
    "\n",
    "plt.show()\n",
    "\n",
    "\n",
    "\n",
    "\n"
   ]
  },
  {
   "cell_type": "code",
   "execution_count": null,
   "metadata": {},
   "outputs": [],
   "source": []
  }
 ],
 "metadata": {
  "kernelspec": {
   "display_name": "Python 3",
   "language": "python",
   "name": "python3"
  },
  "language_info": {
   "codemirror_mode": {
    "name": "ipython",
    "version": 3
   },
   "file_extension": ".py",
   "mimetype": "text/x-python",
   "name": "python",
   "nbconvert_exporter": "python",
   "pygments_lexer": "ipython3",
   "version": "3.8.10"
  }
 },
 "nbformat": 4,
 "nbformat_minor": 4
}
