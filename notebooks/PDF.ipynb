{
 "cells": [
  {
   "cell_type": "code",
   "execution_count": 1,
   "metadata": {},
   "outputs": [],
   "source": [
    "import pandas as pd\n",
    "import matplotlib.pyplot as plt\n",
    "import numpy as np\n",
    "from fromaaron.asat_sma import period\n",
    "import rebound.units as u\n",
    "from functions import *\n",
    "Mearthkg = u.masses_SI['mearth']\n",
    "Msunkg = u.masses_SI['solarmass']\n",
    "Mearth = Mearthkg / Msunkg\n",
    "G = u.G_SI"
   ]
  },
  {
   "cell_type": "code",
   "execution_count": 2,
   "metadata": {},
   "outputs": [],
   "source": [
    "import math\n",
    "\n",
    "def p_geq_k(lam, k):\n",
    "    prob = 0\n",
    "    for i in range(k):\n",
    "        #print(i)\n",
    "        prob += lam**i * np.exp(-lam) / math.factorial(i)\n",
    "        #print(prob)\n",
    "    prob = np.round(prob, 15)\n",
    "    #print(prob)\n",
    "    Prob = 1 - prob\n",
    "    return Prob * 100\n",
    "\n",
    "def p_k(lam, k):\n",
    "    p = lam**k * np.exp(-lam) / math.factorial(k)\n",
    "    return np.round(p, 15) * 100"
   ]
  },
  {
   "cell_type": "code",
   "execution_count": 3,
   "metadata": {},
   "outputs": [],
   "source": [
    "nsbm1 = pd.read_hdf('satall/sims/NSBM/data_0.003_1000_0.13_3.0.hdf', \n",
    "                    key='data')\n",
    "nsbm2 = pd.read_hdf('satall/sims/NSBM/data_0.1_1000_0.13_3.0.hdf',\n",
    "                    key='data')\n",
    "r1 = pd.read_hdf('satall/sims/rayleigh/data_0.05_1000_0.13_3.0.hdf', \n",
    "                 key='data')\n",
    "r2 = pd.read_hdf('satall/sims/rayleigh/data_0.04_1000_0.13_3.0.hdf', \n",
    "                 key='data')\n",
    "r3 = pd.read_hdf('satall/sims/rayleigh/data_0.1_500_0.13_3.0.hdf', \n",
    "                 key='data')\n"
   ]
  },
  {
   "cell_type": "code",
   "execution_count": 4,
   "metadata": {},
   "outputs": [
    {
     "name": "stdout",
     "output_type": "stream",
     "text": [
      "scaled:  1.739163596550064\n",
      "unscaled:  1.4908848011426223\n",
      "function:  1.4908848011426001 \n",
      "\n",
      "scaled:  6.148295764490285\n",
      "unscaled:  5.2877919103480275\n",
      "function:  5.287791910348005 \n",
      "\n",
      "scaled:  7.680040593749182\n",
      "unscaled:  6.6128045929039425\n",
      "function:  6.612804592903898 \n",
      "\n",
      "scaled:  89.68853397710264\n",
      "unscaled:  0.6788453298251507\n",
      "function:  0.6788453298251951 \n",
      "\n",
      "scaled:  99.99999864936235\n",
      "unscaled:  5.2877919103480275\n",
      "function:  5.287791910348005 \n",
      "\n",
      "scaled:  99.99999998770423\n",
      "unscaled:  6.6128045929039425\n",
      "function:  6.612804592903898 \n",
      "\n"
     ]
    }
   ],
   "source": [
    "scales = [1168, 1168, 1168, 333536, 333536, 333536]\n",
    "rlist = [nsbm2, r1, r2, nsbm1, r1, r2]\n",
    "for i, df in enumerate(rlist):\n",
    "    colprob = (1-np.exp(-np.sum(df.colprob.values)*scales[i]/len(df)))*100\n",
    "    print('scaled: ', colprob)\n",
    "    colprob = (1-np.exp(-np.sum(df.colprob.values)))*100\n",
    "    print('unscaled: ', colprob)\n",
    "    colprob = p_geq_k(np.sum(df.colprob.values), 1)\n",
    "    print('function: ', colprob, '\\n')\n",
    "\n",
    "\n"
   ]
  },
  {
   "cell_type": "code",
   "execution_count": 5,
   "metadata": {},
   "outputs": [],
   "source": [
    "scale = 1168\n",
    "i = 0\n",
    "df = r2\n",
    "lam = np.sum(df.colprob.values)\n",
    "lam_scaled = lam * scale/len(df)\n",
    "scaled = []\n",
    "unscaled = []\n",
    "prob_scaled = []\n",
    "prob_unscaled = []\n",
    "kvals = np.arange(0,101,1)\n",
    "for k in kvals:\n",
    "    prob_scaled.append(p_k(lam_scaled, k))\n",
    "    prob_unscaled.append(p_k(lam, k))\n",
    "    scaled.append(p_geq_k(lam_scaled, k))\n",
    "    unscaled.append(p_geq_k(lam, k))"
   ]
  },
  {
   "cell_type": "code",
   "execution_count": 837,
   "metadata": {},
   "outputs": [],
   "source": [
    "def vel_dis_NBM(mtarget, mkill, vkill, vtarget, rtar, nbins, Lc_min, Lc_max, \n",
    "                KEkill, numsample, makev=True, normalize=True):\n",
    "    M = mtarget + mkill\n",
    "    if KEkill / mtarget / 1000 >= 40:\n",
    "        print('catastrophic collision')\n",
    "        Me = mkill + mtarget\n",
    "    else:\n",
    "        print('cratering collision')\n",
    "        Me = 2 * KEkill / 1000 ** 2\n",
    "    print('Ejected Mass initial calc: ', Me)\n",
    "    def dNum(L0, L1, Me):\n",
    "        '''\n",
    "        NASA Standard Breakup Model is used to find the \n",
    "        number of debris fragments for a particular bin\n",
    "        of characteristic lengths Lc.\n",
    "        '''\n",
    "        N0 = 0.1 * Me ** (0.75) * L0 ** (-1.71)\n",
    "        N1 = 0.1 * Me ** (0.75) * L1 ** (-1.71)\n",
    "        return int(N0 - N1)\n",
    "\n",
    "    Lc_bins = np.logspace(np.log10(Lc_min), np.log10(Lc_max), nbins+1)       \n",
    "    L_mids = (Lc_bins[1:] + Lc_bins[:-1]) / 2\n",
    "    nums = []\n",
    "    print('first loop')\n",
    "    for i in range(len(Lc_bins)-1):\n",
    "        Lc_l = Lc_bins[i]\n",
    "        Lc_h = Lc_bins[i+1]\n",
    "        num = int(dNum(Lc_l, Lc_h, Me))\n",
    "        nums.append(num)\n",
    "    nums = np.array(nums).astype(int)\n",
    "    AMfrags = get_AM_ratio(L_mids, nums)\n",
    "    N_tot = len(AMfrags)\n",
    "    Afrags, mfrags, Lcvals = get_A_M_vals(L_mids, AMfrags, nums)\n",
    "    M_tot = np.sum(mfrags)\n",
    "    print('N_tot:', N_tot)\n",
    "    print('M_tot: ', M_tot)\n",
    "    \n",
    "    if normalize:\n",
    "        print('normalizing')\n",
    "        nums = nums * Me / M_tot\n",
    "        nums = nums.astype(int)\n",
    "    AMfrags = get_AM_ratio(L_mids, nums)\n",
    "    Afrags, mfrags, Lcvals = get_A_M_vals(L_mids, AMfrags, nums)\n",
    "    M_tot = np.sum(mfrags)\n",
    "    N_tot = len(AMfrags)\n",
    "    print(N_tot==np.sum(nums))\n",
    "    print('Number of debris: ', N_tot)\n",
    "    print('Total mass of debris:', M_tot)\n",
    "\n",
    "    if normalize:\n",
    "        while M_tot > Me:\n",
    "            print('normalizing')\n",
    "            nums = nums * Me / M_tot\n",
    "            nums = nums.astype(int)\n",
    "            AMfrags = get_AM_ratio(L_mids, nums)\n",
    "            Afrags, mfrags, Lcvals = get_A_M_vals(L_mids, AMfrags, nums)\n",
    "            M_tot = np.sum(mfrags)\n",
    "            N_tot = len(AMfrags)\n",
    "            print(N_tot==np.sum(nums))\n",
    "            print('Number of debris: ', N_tot)\n",
    "            print('Total mass of debris:', M_tot)\n",
    "\n",
    "    \n",
    "    if makev == False:\n",
    "        if numsample == 100:\n",
    "            return N_tot\n",
    "        else:\n",
    "            return numsample\n",
    "    \n",
    "    elif makev == True:\n",
    "        print('making velocities')\n",
    "        \n",
    "        if numsample == 100:\n",
    "            vfrags = get_delta_vs(AMfrags)\n",
    "\n",
    "            GM = G * Mearthkg\n",
    "            vfrags_total = vfrags + vtarget\n",
    "            eccs = []\n",
    "            SMA = []\n",
    "            for v in vfrags_total:\n",
    "                ecc = mag(eccVector(v, GM, rtar))\n",
    "                a = sma(v, GM, mag(rtar))\n",
    "                eccs.append(ecc)\n",
    "                SMA.append(a)\n",
    "\n",
    "            eccs = np.array(eccs)\n",
    "            SMA = np.array(SMA)\n",
    "\n",
    "            return N_tot, L_mids, nums, mfrags, vfrags, vfrags, vfrags_total, eccs, SMA, AMfrags, AMfrags, Lcvals, Lcvals   \n",
    "        \n",
    "        elif numsample != 100:\n",
    "            vfrags_all = get_delta_vs(AMfrags)\n",
    "            \n",
    "            indices = np.linspace(0, len(AMfrags)-1, len(AMfrags)).astype(int)\n",
    "            sample = np.random.choice(indices, numsample, replace=True)\n",
    "            AMsample = AMfrags[sample]\n",
    "            Lcsample = Lcvals[sample]\n",
    "            vfrags = get_delta_vs(AMsample)\n",
    "\n",
    "\n",
    "            GM = G * Mearthkg\n",
    "            vfrags_total = vfrags + vtarget\n",
    "            eccs = []\n",
    "            SMA = []\n",
    "            for v in vfrags_total:\n",
    "                ecc = mag(eccVector(v, GM, rtar))\n",
    "                a = sma(v, GM, mag(rtar))\n",
    "                eccs.append(ecc)\n",
    "                SMA.append(a)\n",
    "\n",
    "            eccs = np.array(eccs)\n",
    "            SMA = np.array(SMA)\n",
    "\n",
    "            return N_tot, L_mids, nums, mfrags, vfrags_all, vfrags, vfrags_total, eccs, SMA, AMfrags, AMsample, Lcvals, Lcsample\n",
    "\n"
   ]
  },
  {
   "cell_type": "code",
   "execution_count": 402,
   "metadata": {},
   "outputs": [],
   "source": [
    "def b_gamma_of_L(Lc):\n",
    "    if Lc <= 0.00167:\n",
    "        b = 0.540424\n",
    "        gamma = 2.\n",
    "    else:\n",
    "        b = 0.556945\n",
    "        gamma = 2.0047077\n",
    "    return b, gamma\n",
    "\n",
    "def p_lam(Lc, L_min, L_max=1.0):\n",
    "    b, gamma = b_gamma_of_L(Lc)\n",
    "    lam = np.log10(Lc)\n",
    "    lam0 = np.log10(L_min)\n",
    "    lam1 = np.log10(L_max)\n",
    "    \n",
    "    def pL(b, Lc, L_min, L_max):\n",
    "        return b * Lc**(-(b+1)) / (L_min**(-b)-L_max**(-b))\n",
    "    \n",
    "    p_lam = np.log(10)*Lc * pL(Lc)\n",
    "    "
   ]
  },
  {
   "cell_type": "code",
   "execution_count": 209,
   "metadata": {},
   "outputs": [
    {
     "name": "stderr",
     "output_type": "stream",
     "text": [
      "<ipython-input-209-6a0e359ab7c9>:1: RuntimeWarning: invalid value encountered in log10\n",
      "  plt.hist(np.log10(dis), bins=100, density=True);\n"
     ]
    },
    {
     "data": {
      "image/png": "[encoded data removed]",
      "text/plain": [
       "<Figure size 432x288 with 1 Axes>"
      ]
     },
     "metadata": {
      "needs_background": "light"
     },
     "output_type": "display_data"
    }
   ],
   "source": [
    "plt.hist(np.log10(dis), bins=100, density=True);\n",
    "plt.hist(np.log10(vmagsR), histtype='step', density=True);"
   ]
  },
  {
   "cell_type": "code",
   "execution_count": null,
   "metadata": {},
   "outputs": [],
   "source": [
    "    for i in range(len(L[flag])):\n",
    "        num = numsM[i]\n",
    "        pS = scipy.stats.norm(muS[i], sig_S[i]).pdf(chi)\n",
    "        pL = aL_1[i] * scipy.stats.norm(muL_1[i], sigL_1[i]).pdf(chi) + aL_2[i] * scipy.stats.norm(muL_2[i], sigL_2[i]).pdf(chi)\n",
    "        pM = a[i] * pL + (1-a[i]) * pS\n",
    "        cdfM = np.cumsum(pM*dchi)\n",
    "        P = np.random.uniform(size=num)\n",
    "        cdfindices = np.digitize(P, bins=cdfM)\n",
    "        cdfindices[cdfindices==len(chi)] = len(chi) - 1\n",
    "        chis = np.append(chis, chi[cdfindices])\n",
    "        \n",
    "    # large objects:\n",
    "    flag = L>0.11\n",
    "    numsL = nums[flag]\n",
    "    a1, a2 = aL1[flag], aL2[flag]\n",
    "    mu1, mu2 = muL1[flag], muL2[flag]\n",
    "    sig1, sig2 = sigL1[flag], sigL2[flag]\n",
    "    for i in range(len(L[flag])):\n",
    "        num = numsL[i]\n",
    "        pL = a1[i] * scipy.stats.norm(mu1[i], sig1[i]).pdf(chi) + a2[i] * scipy.stats.norm(mu2[i], sig2[i]).pdf(chi)\n",
    "        cdfL = np.cumsum(pL*dchi)\n",
    "        P = np.random.uniform(size=num)\n",
    "        cdfindices = np.digitize(P, bins=cdfL)\n",
    "        cdfindices[cdfindices==len(chi)] = len(chi) - 1\n",
    "        chis = np.append(chis, chi[cdfindices])"
   ]
  },
  {
   "cell_type": "code",
   "execution_count": 1202,
   "metadata": {},
   "outputs": [],
   "source": [
    "from scipy.stats import maxwell as maxwell\n",
    "import scipy.stats"
   ]
  },
  {
   "cell_type": "code",
   "execution_count": 853,
   "metadata": {},
   "outputs": [],
   "source": [
    "vs = np.log10(np.logspace(0.0001,5,10000))\n",
    "dv = (vs[1:]-vs[:-1])[0]\n",
    "\n",
    "vx = []\n",
    "vy = []\n",
    "vz = []\n",
    "\n",
    "for AMval in AMfrags:\n",
    "    chi = np.log10(AMval)\n",
    "    mu = 0.9 * chi + 2.9\n",
    "    sigma = 0.4 \n",
    "    pv = scipy.stats.norm(mu, sigma).pdf(vs)\n",
    "    cdf = np.cumsum(pv*dv)\n",
    "    P = np.random.uniform(size=1)\n",
    "    cdfindices = np.digitize(P, bins=cdf)\n",
    "    cdfindices[cdfindices==len(vs)] = len(vs) - 1\n",
    "    magv = 10**vs[cdfindices]\n",
    "    unitvecs = np.random.uniform(-1, 1, (1, 3))\n",
    "    vnormed = (unitvecs.T / np.linalg.norm(unitvecs, axis=1)).T\n",
    "    vfrag = (vnormed.T * magv).T\n",
    "    vx.append(vfrag[:,0])\n",
    "    vy.append(vfrag[:,1])\n",
    "    vz.append(vfrag[:,2])"
   ]
  },
  {
   "cell_type": "code",
   "execution_count": 854,
   "metadata": {},
   "outputs": [],
   "source": [
    "vx = np.array(vx)\n",
    "vy = np.array(vy)\n",
    "vz = np.array(vz)\n",
    "magv = np.sqrt(vx**2+vy**2+vz**2)"
   ]
  },
  {
   "cell_type": "code",
   "execution_count": 855,
   "metadata": {},
   "outputs": [],
   "source": [
    "vmags = np.sqrt(vfrags[:,0]**2+vfrags[:,1]**2+vfrags[:,2]**2)"
   ]
  },
  {
   "cell_type": "code",
   "execution_count": 856,
   "metadata": {},
   "outputs": [
    {
     "data": {
      "text/plain": [
       "<matplotlib.legend.Legend at 0x7f2c23d3b3a0>"
      ]
     },
     "execution_count": 856,
     "metadata": {},
     "output_type": "execute_result"
    },
    {
     "data": {
      "image/png": "[encoded data removed]",
      "text/plain": [
       "<Figure size 432x288 with 1 Axes>"
      ]
     },
     "metadata": {
      "needs_background": "light"
     },
     "output_type": "display_data"
    }
   ],
   "source": [
    "edges, bins, _ = plt.hist(np.log10(magv), bins=np.linspace(0,4,50), histtype='step', label='CDF-sampled');\n",
    "edges, bins, _ = plt.hist(np.log10(vmags), bins=bins, histtype='step', label='pdf sampled');\n",
    "#plt.hist(np.log10(vmagsR), bins=bins, histtype='step', label='rayleigh');\n",
    "plt.legend()"
   ]
  },
  {
   "cell_type": "code",
   "execution_count": 857,
   "metadata": {},
   "outputs": [],
   "source": [
    "vcdf = np.append(np.append(vx, vy, axis=1), vz, axis=1)\n",
    "GM = G * Mearthkg\n",
    "vfrags_total_cdf = vcdf + vtarget\n",
    "eccscdf = []\n",
    "SMAcdf = []\n",
    "for v in vfrags_total_cdf:\n",
    "    ecc = mag(eccVector(v, GM, rtarget))\n",
    "    a = sma(v, GM, mag(rtarget))\n",
    "    eccscdf.append(ecc)\n",
    "    SMAcdf.append(a)"
   ]
  },
  {
   "cell_type": "code",
   "execution_count": 964,
   "metadata": {},
   "outputs": [],
   "source": [
    "vR = vfragsR\n",
    "GM = G * Mearthkg\n",
    "vfrags_total_R = vR + vtarget\n",
    "eccsR = []\n",
    "SMAR = []\n",
    "for v in vfrags_total_R:\n",
    "    ecc = mag(eccVector(v, GM, rtarget))\n",
    "    a = sma(v, GM, mag(rtarget))\n",
    "    eccsR.append(ecc)\n",
    "    SMAR.append(a)"
   ]
  },
  {
   "cell_type": "code",
   "execution_count": null,
   "metadata": {},
   "outputs": [],
   "source": []
  },
  {
   "cell_type": "code",
   "execution_count": 858,
   "metadata": {},
   "outputs": [],
   "source": [
    "SMAcdf =np.array(SMAcdf)\n",
    "eccscdf = np.array(eccscdf)"
   ]
  },
  {
   "cell_type": "code",
   "execution_count": 859,
   "metadata": {},
   "outputs": [],
   "source": [
    "p = SMA*(1-eccs)/1000-REkm\n",
    "q = SMA*(1+eccs)/1000-REkm"
   ]
  },
  {
   "cell_type": "code",
   "execution_count": 740,
   "metadata": {},
   "outputs": [],
   "source": [
    "qcdf = SMAcdf*(1+eccscdf)/1000-REkm\n",
    "pcdf = SMAcdf*(1-eccscdf)/1000-REkm"
   ]
  },
  {
   "cell_type": "code",
   "execution_count": 741,
   "metadata": {},
   "outputs": [
    {
     "data": {
      "text/plain": [
       "389"
      ]
     },
     "execution_count": 741,
     "metadata": {},
     "output_type": "execute_result"
    }
   ],
   "source": [
    "len(pcdf[(pcdf>200)&(eccscdf<1)&(qcdf<2500)])"
   ]
  },
  {
   "cell_type": "code",
   "execution_count": 742,
   "metadata": {},
   "outputs": [
    {
     "data": {
      "text/plain": [
       "(0, 4.5)"
      ]
     },
     "execution_count": 742,
     "metadata": {},
     "output_type": "execute_result"
    },
    {
     "data": {
      "image/png": "[encoded data removed]",
      "text/plain": [
       "<Figure size 432x288 with 1 Axes>"
      ]
     },
     "metadata": {
      "needs_background": "light"
     },
     "output_type": "display_data"
    }
   ],
   "source": [
    "plt.scatter(np.log10(AMfrags), np.log10(magv))\n",
    "plt.ylim(0,4.5)"
   ]
  },
  {
   "cell_type": "code",
   "execution_count": 743,
   "metadata": {},
   "outputs": [
    {
     "data": {
      "text/plain": [
       "(0.19996560327887092, 4)"
      ]
     },
     "execution_count": 743,
     "metadata": {},
     "output_type": "execute_result"
    },
    {
     "data": {
      "image/png": "[encoded data removed]",
      "text/plain": [
       "<Figure size 432x288 with 1 Axes>"
      ]
     },
     "metadata": {
      "needs_background": "light"
     },
     "output_type": "display_data"
    }
   ],
   "source": [
    "plt.scatter(SMAcdf/1000-REkm, np.log10(magv))\n",
    "plt.xlim(-2000,2500)\n",
    "plt.ylim(top=4)"
   ]
  },
  {
   "cell_type": "code",
   "execution_count": 744,
   "metadata": {},
   "outputs": [
    {
     "data": {
      "text/plain": [
       "548"
      ]
     },
     "execution_count": 744,
     "metadata": {},
     "output_type": "execute_result"
    }
   ],
   "source": [
    "len(SMAcdf[SMAcdf/1000-REkm>200])"
   ]
  },
  {
   "cell_type": "code",
   "execution_count": 745,
   "metadata": {},
   "outputs": [
    {
     "data": {
      "text/plain": [
       "(-0.23871207643941508, 4)"
      ]
     },
     "execution_count": 745,
     "metadata": {},
     "output_type": "execute_result"
    },
    {
     "data": {
      "image/png": "[encoded data removed]",
      "text/plain": [
       "<Figure size 432x288 with 1 Axes>"
      ]
     },
     "metadata": {
      "needs_background": "light"
     },
     "output_type": "display_data"
    }
   ],
   "source": [
    "plt.scatter(SMA/1000-REkm, np.log10(vmags))\n",
    "plt.xlim(-2000,2500)\n",
    "plt.ylim(top=4)"
   ]
  },
  {
   "cell_type": "code",
   "execution_count": 746,
   "metadata": {},
   "outputs": [
    {
     "data": {
      "text/plain": [
       "0.04804804804804805"
      ]
     },
     "execution_count": 746,
     "metadata": {},
     "output_type": "execute_result"
    }
   ],
   "source": [
    "len(nsbm2.loc[np.log10(nsbm2.vkick)<1])/len(nsbm2)"
   ]
  },
  {
   "cell_type": "code",
   "execution_count": 973,
   "metadata": {},
   "outputs": [
    {
     "data": {
      "text/plain": [
       "<matplotlib.lines.Line2D at 0x7f2c28a4d1f0>"
      ]
     },
     "execution_count": 973,
     "metadata": {},
     "output_type": "execute_result"
    },
    {
     "data": {
      "image/png": "[encoded data removed]",
      "text/plain": [
       "<Figure size 432x288 with 1 Axes>"
      ]
     },
     "metadata": {
      "needs_background": "light"
     },
     "output_type": "display_data"
    }
   ],
   "source": [
    "edges,bins,_= plt.hist(SMA/1000-REkm, bins=500, histtype='step');\n",
    "plt.hist(np.array(SMAR)/1000-REkm, bins=bins, histtype='step');\n",
    "plt.xlim(-600,1200)\n",
    "plt.axvline(283, color='r')"
   ]
  },
  {
   "cell_type": "code",
   "execution_count": 976,
   "metadata": {},
   "outputs": [
    {
     "data": {
      "text/plain": [
       "433"
      ]
     },
     "execution_count": 976,
     "metadata": {},
     "output_type": "execute_result"
    }
   ],
   "source": [
    "SMAR=np.array(SMAR)\n",
    "len(SMAR[SMAR/1000-REkm>200])"
   ]
  },
  {
   "cell_type": "code",
   "execution_count": 979,
   "metadata": {},
   "outputs": [
    {
     "data": {
      "text/plain": [
       "7735.691960387545"
      ]
     },
     "execution_count": 979,
     "metadata": {},
     "output_type": "execute_result"
    }
   ],
   "source": [
    "np.sqrt(G*Mearthkg/mag(rtarget))"
   ]
  },
  {
   "cell_type": "code",
   "execution_count": 747,
   "metadata": {},
   "outputs": [
    {
     "data": {
      "text/plain": [
       "<matplotlib.colorbar.Colorbar at 0x7f2c20aa7100>"
      ]
     },
     "execution_count": 747,
     "metadata": {},
     "output_type": "execute_result"
    },
    {
     "data": {
      "image/png": "[encoded data removed]",
      "text/plain": [
       "<Figure size 432x288 with 2 Axes>"
      ]
     },
     "metadata": {
      "needs_background": "light"
     },
     "output_type": "display_data"
    }
   ],
   "source": [
    "df = nsbm2\n",
    "a = df.SMA/1000-REkm\n",
    "q = df.SMA*(1+df.ecc)/1000-REkm\n",
    "p = df.SMA*(1-df.ecc)/1000-REkm\n",
    "vkicks = df.vkick\n",
    "plt.scatter(np.log10(df.Lc), np.log10(vkicks), c=df.colprob)\n",
    "plt.colorbar()"
   ]
  },
  {
   "cell_type": "code",
   "execution_count": 748,
   "metadata": {},
   "outputs": [],
   "source": [
    "lowv = nsbm2.loc[nsbm2.vkick<10]\n",
    "highv = nsbm2.loc[nsbm2.vkick>=10]"
   ]
  },
  {
   "cell_type": "code",
   "execution_count": 749,
   "metadata": {},
   "outputs": [
    {
     "data": {
      "text/plain": [
       "1.490880919511084"
      ]
     },
     "execution_count": 749,
     "metadata": {},
     "output_type": "execute_result"
    }
   ],
   "source": [
    "(1-np.exp(-np.sum(highv.colprob.values)))*100"
   ]
  },
  {
   "cell_type": "code",
   "execution_count": 750,
   "metadata": {},
   "outputs": [
    {
     "name": "stderr",
     "output_type": "stream",
     "text": [
      "<ipython-input-750-e2a583d66fad>:2: FutureWarning: The frame.append method is deprecated and will be removed from pandas in a future version. Use pandas.concat instead.\n",
      "  checker = checker.loc[(checker.Lc>=0.1)&(checker.vkick<10)].append(nsbm3.loc[nsbm3.Lc<0.1])\n"
     ]
    }
   ],
   "source": [
    "checker = nsbm3\n",
    "checker = checker.loc[(checker.Lc>=0.1)&(checker.vkick<10)].append(nsbm3.loc[nsbm3.Lc<0.1])"
   ]
  },
  {
   "cell_type": "code",
   "execution_count": 751,
   "metadata": {},
   "outputs": [
    {
     "data": {
      "text/plain": [
       "91.68387336336077"
      ]
     },
     "execution_count": 751,
     "metadata": {},
     "output_type": "execute_result"
    }
   ],
   "source": [
    "(1-np.exp(-np.sum(checker.colprob.values)*333333/len(checker)))*100"
   ]
  },
  {
   "cell_type": "code",
   "execution_count": 752,
   "metadata": {},
   "outputs": [
    {
     "data": {
      "text/plain": [
       "<matplotlib.colorbar.Colorbar at 0x7f2c20b8c820>"
      ]
     },
     "execution_count": 752,
     "metadata": {},
     "output_type": "execute_result"
    },
    {
     "data": {
      "image/png": "[encoded data removed]",
      "text/plain": [
       "<Figure size 432x288 with 2 Axes>"
      ]
     },
     "metadata": {
      "needs_background": "light"
     },
     "output_type": "display_data"
    }
   ],
   "source": [
    "nsbm2 = nsbm2.loc[nsbm2.t_deorbit<1e6]\n",
    "plt.scatter(np.log10(nsbm2.AM.values), np.log10(nsbm2.vkick.values), c=nsbm2.colprob.values)\n",
    "plt.colorbar()"
   ]
  },
  {
   "cell_type": "code",
   "execution_count": 494,
   "metadata": {},
   "outputs": [
    {
     "data": {
      "text/plain": [
       "2.623228285257222e-06"
      ]
     },
     "execution_count": 494,
     "metadata": {},
     "output_type": "execute_result"
    }
   ],
   "source": [
    "lowv = nsbm2.loc[nsbm2.vkick<=10]\n",
    "np.sum(lowv.colprob.values)/np.sum(nsbm2.colprob.values)"
   ]
  },
  {
   "cell_type": "code",
   "execution_count": 504,
   "metadata": {},
   "outputs": [
    {
     "data": {
      "text/plain": [
       "Text(0.5, 1.0, '84.91% deorbited after 3 years')"
      ]
     },
     "execution_count": 504,
     "metadata": {},
     "output_type": "execute_result"
    },
    {
     "data": {
      "image/png": "[encoded data removed]",
      "text/plain": [
       "<Figure size 720x576 with 1 Axes>"
      ]
     },
     "metadata": {
      "needs_background": "light"
     },
     "output_type": "display_data"
    }
   ],
   "source": [
    "datadf = nsbm2.loc[nsbm2.vkick>10]\n",
    "maxtime = 3\n",
    "NFOLLOW = 1168 - 48\n",
    "timedf = pd.DataFrame(datadf.loc[datadf.t_deorbit < 1e6].t_deorbit.values.T, columns=['time'])\n",
    "cumsum = np.cumsum(timedf.groupby('time').size().values)\n",
    "\n",
    "fig, ax = plt.subplots(figsize=(10,8))\n",
    "plt.plot(timedf.groupby('time').first().index.values/twopi, cumsum/NFOLLOW, lw=1.5, color='r')\n",
    "plt.xlabel('Time (yrs)', fontsize=16)\n",
    "plt.ylabel('Fraction of Fragments Deorbited', fontsize=16)\n",
    "ax.tick_params(labelsize=14)\n",
    "plt.title('{:.4}% deorbited after {} years'.format(cumsum[-1]/NFOLLOW*100, maxtime), fontsize=16)\n",
    "\n"
   ]
  },
  {
   "cell_type": "code",
   "execution_count": 464,
   "metadata": {},
   "outputs": [
    {
     "data": {
      "text/plain": [
       "(0, 4.5)"
      ]
     },
     "execution_count": 464,
     "metadata": {},
     "output_type": "execute_result"
    },
    {
     "data": {
      "image/png": "[encoded data removed]",
      "text/plain": [
       "<Figure size 432x288 with 1 Axes>"
      ]
     },
     "metadata": {
      "needs_background": "light"
     },
     "output_type": "display_data"
    }
   ],
   "source": [
    "plt.scatter(np.log10(AMfrags), np.log10(vmags))\n",
    "plt.ylim(0,4.5)"
   ]
  },
  {
   "cell_type": "code",
   "execution_count": 508,
   "metadata": {},
   "outputs": [
    {
     "name": "stderr",
     "output_type": "stream",
     "text": [
      "<ipython-input-508-7508d342f24f>:1: RuntimeWarning: invalid value encountered in log10\n",
      "  plt.scatter(np.log10(SMAcdf), np.log10(magv))\n"
     ]
    },
    {
     "data": {
      "text/plain": [
       "(0, 4.5)"
      ]
     },
     "execution_count": 508,
     "metadata": {},
     "output_type": "execute_result"
    },
    {
     "data": {
      "image/png": "[encoded data removed]",
      "text/plain": [
       "<Figure size 432x288 with 1 Axes>"
      ]
     },
     "metadata": {
      "needs_background": "light"
     },
     "output_type": "display_data"
    }
   ],
   "source": [
    "plt.scatter(np.log10(SMAcdf), np.log10(magv))\n",
    "plt.ylim(0,4.5)"
   ]
  },
  {
   "cell_type": "code",
   "execution_count": 5,
   "metadata": {},
   "outputs": [
    {
     "name": "stdout",
     "output_type": "stream",
     "text": [
      "[-1245.59931005   752.09134181  6500.13553492]\n",
      "283.0000000000018\n",
      "7598.593642757243 164.96827627231005 1425.7791509032206\n",
      "7732.9610154893035\n",
      "catastrophic collision\n",
      "Ejected Mass initial calc:  750\n",
      "first loop\n",
      "N_tot: 671\n",
      "M_tot:  414.3867481385325\n",
      "normalizing\n",
      "True\n",
      "Number of debris:  1168\n",
      "Total mass of debris: 518.0180372873651\n",
      "making velocities\n"
     ]
    }
   ],
   "source": [
    "SEED=314\n",
    "np.random.seed(SEED)\n",
    "from NSBM_functions import *\n",
    "\n",
    "mtarget = 740\n",
    "mkill = 10\n",
    "vkill = 3.4e3\n",
    "Q = 288.7 + REkm\n",
    "q = 267.4 + REkm\n",
    "r = 283 + REkm\n",
    "a = (Q + q) * 1000 / 2\n",
    "vr = np.sqrt(G * (Mearthkg + mtarget) * (2/(r*1000) - 1/a))\n",
    "inc = 96.6 * np.pi / 180\n",
    "omega = 17 * np.pi / 180\n",
    "vtarget, rtarget = get_target_params(mtarget, vr, r, Q, inc, omega)\n",
    "nbins = 100\n",
    "Lc_min = 0.1\n",
    "Lc_max = 1.0\n",
    "KEkill = 130e6\n",
    "numsample = 100\n",
    "N_tot, L_mids, nums, mfrags, vfrags_all, vfrags, vfrags_total, eccs, SMA, AMfrags_all, AMfrags, Lcvals_all, Lcvals  = vel_dis_NBM(mtarget, \n",
    "                                                                                                                  mkill, \n",
    "                                                                                                                  vkill, \n",
    "                                                                                                                  vtarget, \n",
    "                                                                                                                  rtarget, \n",
    "                                                                                                                  nbins, \n",
    "                                                                                                                  Lc_min, \n",
    "                                                                                                                  Lc_max, \n",
    "                                                                                                                  KEkill, \n",
    "                                                                                                                  numsample, \n",
    "                                                                                                                  makev=True)\n"
   ]
  },
  {
   "cell_type": "code",
   "execution_count": 8,
   "metadata": {},
   "outputs": [
    {
     "data": {
      "text/plain": [
       "647"
      ]
     },
     "execution_count": 8,
     "metadata": {},
     "output_type": "execute_result"
    }
   ],
   "source": [
    "flag = (SMA*(1-eccs)/1000-REkm>200)&(SMA*(1+eccs)/1000-REkm<2500)&(eccs<1)\n",
    "len(SMA[flag])"
   ]
  },
  {
   "cell_type": "code",
   "execution_count": 1430,
   "metadata": {},
   "outputs": [],
   "source": [
    "vmag = np.sqrt(vfrags[:,0]**2+vfrags[:,1]**2+vfrags[:,2]**2)"
   ]
  },
  {
   "cell_type": "code",
   "execution_count": 1431,
   "metadata": {},
   "outputs": [],
   "source": [
    "def get_delta_vs(AM, k):\n",
    "    np.random.seed(314)\n",
    "    print(k)\n",
    "    chi = np.log10(AM)\n",
    "    mu = 0.9 * chi + 2.9\n",
    "    sigma = 0.4 * np.ones(len(chi))\n",
    "    v = np.random.normal(loc=mu, scale=sigma, size=np.array([1, len(chi)]))\n",
    "    magdv = 10 ** v[0]\n",
    "    if k == -1:\n",
    "        unitvecs = np.random.uniform(-1, 1, (len(magdv), 3))\n",
    "    if k == 0:\n",
    "        unitvecs = np.random.normal(0, 1, (len(magdv), 3))\n",
    "    print(unitvecs)\n",
    "    vnormed = (unitvecs.T / np.linalg.norm(unitvecs, axis=1)).T\n",
    "    vfrags = (vnormed.T * magdv).T\n",
    "    return vfrags"
   ]
  },
  {
   "cell_type": "code",
   "execution_count": 1432,
   "metadata": {},
   "outputs": [
    {
     "name": "stdout",
     "output_type": "stream",
     "text": [
      "-1\n",
      "[[ 0.28366538  0.30141981  0.80081963]\n",
      " [-0.99806646  0.65273078  0.03964336]\n",
      " [-0.4629463  -0.15902532 -0.26448431]\n",
      " ...\n",
      " [-0.91988741 -0.79179837  0.77067524]\n",
      " [ 0.42059301 -0.63217615  0.92307163]\n",
      " [-0.02476693  0.24095996  0.1168292 ]]\n"
     ]
    }
   ],
   "source": [
    "vfragR = get_delta_vs(AMfrags, -1)\n",
    "vR = vfragR\n",
    "GM = G * Mearthkg\n",
    "vfrags_total_R = vR + vtarget\n",
    "eccsR = []\n",
    "SMAR = []\n",
    "for v in vfrags_total_R:\n",
    "    ecc = mag(eccVector(v, GM, rtarget))\n",
    "    a = sma(v, GM, mag(rtarget))\n",
    "    eccsR.append(ecc)\n",
    "    SMAR.append(a)\n",
    "SMAR = np.array(SMAR)\n",
    "eccsR = np.array(eccsR)\n",
    "vmagR = np.sqrt(vfragR[:,0]**2+vfragR[:,1]**2+vfragR[:,2]**2)"
   ]
  },
  {
   "cell_type": "code",
   "execution_count": 1433,
   "metadata": {},
   "outputs": [
    {
     "name": "stdout",
     "output_type": "stream",
     "text": [
      "0\n",
      "[[ 1.36791617  1.28734228  0.07901933]\n",
      " [ 1.30105886 -0.549172   -1.59872117]\n",
      " [-1.06344627 -1.91024609 -1.33731722]\n",
      " ...\n",
      " [-1.178231    1.33311868  0.34982818]\n",
      " [ 1.03561966 -0.61693678 -0.96921034]\n",
      " [ 0.61175176  0.25479342  0.13136636]]\n"
     ]
    }
   ],
   "source": [
    "vfragR0 = get_delta_vs(AMfrags, 0)\n",
    "vR = vfragR0\n",
    "GM = G * Mearthkg\n",
    "vfrags_total_R = vR + vtarget\n",
    "eccsR0 = []\n",
    "SMAR0 = []\n",
    "for v in vfrags_total_R:\n",
    "    ecc = mag(eccVector(v, GM, rtarget))\n",
    "    a = sma(v, GM, mag(rtarget))\n",
    "    eccsR0.append(ecc)\n",
    "    SMAR0.append(a)\n",
    "SMAR0 = np.array(SMAR0)\n",
    "eccsR0 = np.array(eccsR0)\n",
    "vmagR0 = np.sqrt(vfragR0[:,0]**2+vfragR0[:,1]**2+vfragR0[:,2]**2)"
   ]
  },
  {
   "cell_type": "code",
   "execution_count": 1434,
   "metadata": {},
   "outputs": [
    {
     "data": {
      "image/png": "[encoded data removed]",
      "text/plain": [
       "<Figure size 432x288 with 1 Axes>"
      ]
     },
     "metadata": {
      "needs_background": "light"
     },
     "output_type": "display_data"
    }
   ],
   "source": [
    "edges, bins,_ = plt.hist(np.log10(vmag), bins=50, histtype='step', density=True);\n",
    "plt.hist(np.log10(vmagR0), bins=bins, histtype='step', density=True);"
   ]
  },
  {
   "cell_type": "code",
   "execution_count": 1435,
   "metadata": {},
   "outputs": [
    {
     "data": {
      "text/plain": [
       "<matplotlib.legend.Legend at 0x7f2c20f280a0>"
      ]
     },
     "execution_count": 1435,
     "metadata": {},
     "output_type": "execute_result"
    },
    {
     "data": {
      "image/png": "[encoded data removed]",
      "text/plain": [
       "<Figure size 432x288 with 1 Axes>"
      ]
     },
     "metadata": {
      "needs_background": "light"
     },
     "output_type": "display_data"
    }
   ],
   "source": [
    "edges, bins, _ = plt.hist(SMA/1000-REkm, bins=np.linspace(-200,600,100),histtype='step', label='uniform');\n",
    "plt.hist(SMAR0/1000-REkm, bins=bins, histtype='step', label='normal');\n",
    "plt.xlabel('a')\n",
    "plt.ylabel('counts')\n",
    "plt.legend()"
   ]
  },
  {
   "cell_type": "code",
   "execution_count": 1418,
   "metadata": {},
   "outputs": [],
   "source": [
    "q = SMA*(1-eccs)/1000-REkm"
   ]
  },
  {
   "cell_type": "code",
   "execution_count": 1422,
   "metadata": {},
   "outputs": [
    {
     "data": {
      "text/plain": [
       "306"
      ]
     },
     "execution_count": 1422,
     "metadata": {},
     "output_type": "execute_result"
    }
   ],
   "source": [
    "np.sum(q<200)"
   ]
  },
  {
   "cell_type": "code",
   "execution_count": 1441,
   "metadata": {},
   "outputs": [
    {
     "data": {
      "text/plain": [
       "<matplotlib.legend.Legend at 0x7f2c251a11f0>"
      ]
     },
     "execution_count": 1441,
     "metadata": {},
     "output_type": "execute_result"
    },
    {
     "data": {
      "image/png": "[encoded data removed]",
      "text/plain": [
       "<Figure size 432x288 with 1 Axes>"
      ]
     },
     "metadata": {
      "needs_background": "light"
     },
     "output_type": "display_data"
    }
   ],
   "source": [
    "edges, bins, _ = plt.hist(SMA*(1-eccs)/1000-REkm, bins=np.linspace(0,300,100),histtype='step', label='uniform');\n",
    "plt.hist(SMAR0*(1-eccsR0)/1000-REkm, bins=bins, histtype='step', label='normal');\n",
    "plt.xlabel('q')\n",
    "plt.ylabel('counts')\n",
    "plt.legend()"
   ]
  },
  {
   "cell_type": "code",
   "execution_count": 1402,
   "metadata": {},
   "outputs": [
    {
     "data": {
      "image/png": "[encoded data removed]",
      "text/plain": [
       "<Figure size 432x288 with 1 Axes>"
      ]
     },
     "metadata": {
      "needs_background": "light"
     },
     "output_type": "display_data"
    }
   ],
   "source": [
    "edges, bins, _ = plt.hist(SMA*(1+eccs)/1000-REkm, bins=np.linspace(200,700,100),histtype='step');\n",
    "plt.hist(SMAR0*(1+eccsR0)/1000-REkm, bins=bins, histtype='step');"
   ]
  },
  {
   "cell_type": "code",
   "execution_count": 1448,
   "metadata": {},
   "outputs": [
    {
     "data": {
      "text/plain": [
       "2.9273931544813983"
      ]
     },
     "execution_count": 1448,
     "metadata": {},
     "output_type": "execute_result"
    }
   ],
   "source": [
    "twopi = 2 * np.pi\n",
    "(twopi/2 - (9/12)/22*twopi)"
   ]
  },
  {
   "cell_type": "code",
   "execution_count": 1449,
   "metadata": {},
   "outputs": [
    {
     "data": {
      "text/plain": [
       "2.921681167838508"
      ]
     },
     "execution_count": 1449,
     "metadata": {},
     "output_type": "execute_result"
    }
   ],
   "source": [
    "0.93*np.pi"
   ]
  },
  {
   "cell_type": "code",
   "execution_count": 1183,
   "metadata": {},
   "outputs": [],
   "source": [
    "def get_delta_vs(AM):\n",
    "    chi = np.log10(AM)\n",
    "    mu = 0.9 * chi + 2.9\n",
    "    sigma = 0.4 * np.ones(len(chi))\n",
    "    v = np.random.normal(loc=mu, scale=sigma, size=np.array([1, len(chi)]))\n",
    "    magdv = 10 ** v[0]\n",
    "    unitvecs = np.random.uniform(0, 1, (len(magdv), 3))\n",
    "    vnormed = (unitvecs.T / np.linalg.norm(unitvecs, axis=1)).T\n",
    "    vfrags = (vnormed.T * magdv).T\n",
    "    return vfrags"
   ]
  },
  {
   "cell_type": "code",
   "execution_count": 1180,
   "metadata": {},
   "outputs": [],
   "source": [
    "vfragsR = get_delta_vs(AMfrags)\n",
    "vfragtot = vfrags\n",
    "vfragtot[:,0] += 7738\n",
    "vkicks = np.linalg.norm(vfrags, axis=1)"
   ]
  },
  {
   "cell_type": "code",
   "execution_count": 1151,
   "metadata": {},
   "outputs": [
    {
     "data": {
      "text/plain": [
       "array([-1245599.31004799,   752091.34181366,  6500135.53492363])"
      ]
     },
     "execution_count": 1151,
     "metadata": {},
     "output_type": "execute_result"
    }
   ],
   "source": [
    "rtarget"
   ]
  },
  {
   "cell_type": "code",
   "execution_count": 1188,
   "metadata": {},
   "outputs": [],
   "source": [
    "GM = G * Mearthkg\n",
    "vfrags_total_R = get_delta_vs(AMfrags) + vtarget\n",
    "eccsR = []\n",
    "SMAR = []\n",
    "for v in vfrags_total_R:\n",
    "    ecc = mag(eccVector(v, GM, rtarget))\n",
    "    a = sma(v, GM, mag(rtarget))\n",
    "    eccsR.append(ecc)\n",
    "    SMAR.append(a)\n",
    "SMAR = np.array(SMAR)\n",
    "eccsR = np.array(eccsR)"
   ]
  },
  {
   "cell_type": "code",
   "execution_count": 1187,
   "metadata": {},
   "outputs": [
    {
     "data": {
      "text/plain": [
       "(-1000, 1000)"
      ]
     },
     "execution_count": 1187,
     "metadata": {},
     "output_type": "execute_result"
    },
    {
     "data": {
      "image/png": "[encoded data removed]",
      "text/plain": [
       "<Figure size 432x288 with 1 Axes>"
      ]
     },
     "metadata": {
      "needs_background": "light"
     },
     "output_type": "display_data"
    }
   ],
   "source": [
    "edges,bins,_=plt.hist(SMA[SMA/1000-REkm<1e4]/1000-REkm, bins=500);\n",
    "plt.hist(SMAR/1000-REkm, bins=bins, histtype='step', lw=2);\n",
    "plt.axvline(283, color='r')\n",
    "plt.xlim(-1000,1000)"
   ]
  },
  {
   "cell_type": "code",
   "execution_count": 1153,
   "metadata": {},
   "outputs": [
    {
     "data": {
      "image/png": "[encoded data removed]",
      "text/plain": [
       "<Figure size 432x288 with 1 Axes>"
      ]
     },
     "metadata": {
      "needs_background": "light"
     },
     "output_type": "display_data"
    }
   ],
   "source": [
    "edges,bins,_=plt.hist(eccs[SMA/1000-REkm<1e4], bins=np.linspace(0,0.5,100));\n",
    "plt.hist(eccsR, bins=bins, histtype='step', lw=2);"
   ]
  },
  {
   "cell_type": "code",
   "execution_count": 1061,
   "metadata": {},
   "outputs": [
    {
     "data": {
      "image/png": "[encoded data removed]",
      "text/plain": [
       "<Figure size 432x288 with 1 Axes>"
      ]
     },
     "metadata": {
      "needs_background": "light"
     },
     "output_type": "display_data"
    }
   ],
   "source": [
    "flag = SMA/1000-REkm<1e4\n",
    "edges,bins,_=plt.hist((SMA*(1-eccs))[flag]/1000-REkm, bins=np.linspace(0, 300));\n",
    "plt.hist(SMAR*(1-eccsR)/1000-REkm, bins=bins, histtype='step', lw=2);"
   ]
  },
  {
   "cell_type": "code",
   "execution_count": 1063,
   "metadata": {},
   "outputs": [
    {
     "data": {
      "image/png": "[encoded data removed]",
      "text/plain": [
       "<Figure size 432x288 with 1 Axes>"
      ]
     },
     "metadata": {
      "needs_background": "light"
     },
     "output_type": "display_data"
    }
   ],
   "source": [
    "flag = SMA/1000-REkm<1e4\n",
    "edges,bins,_=plt.hist((SMA*(1+eccs))[flag]/1000-REkm, bins=np.linspace(250,500));\n",
    "plt.hist(SMAR*(1+eccsR)/1000-REkm, bins=bins, histtype='step', lw=2);"
   ]
  },
  {
   "cell_type": "code",
   "execution_count": 1103,
   "metadata": {},
   "outputs": [],
   "source": [
    "vtarmag = mag(vtarget)\n",
    "vfrags_test = vfrags\n",
    "vfrags_test[:,0] += vtarmag"
   ]
  },
  {
   "cell_type": "code",
   "execution_count": 1114,
   "metadata": {},
   "outputs": [],
   "source": [
    "vR = vfrags_test\n",
    "GM = G * Mearthkg\n",
    "vfrags_total_R = vR\n",
    "eccsR = []\n",
    "SMAR = []\n",
    "for v in vfrags_total_R:\n",
    "    ecc = mag(eccVector(v, GM, [mag(rtarget),0,0]))\n",
    "    a = sma(v, GM, mag(rtarget))\n",
    "    eccsR.append(ecc)\n",
    "    SMAR.append(a)\n",
    "SMAR = np.array(SMAR)\n",
    "eccsR = np.array(eccsR)"
   ]
  },
  {
   "cell_type": "code",
   "execution_count": 1070,
   "metadata": {},
   "outputs": [
    {
     "data": {
      "text/plain": [
       "407"
      ]
     },
     "execution_count": 1070,
     "metadata": {},
     "output_type": "execute_result"
    }
   ],
   "source": [
    "Q = SMA*(1+eccs)/1000-REkm\n",
    "q = SMA*(1-eccs)/1000-REkm\n",
    "good = (Q<2500)&(q>200)&(eccs<1)\n",
    "len(SMA[good])"
   ]
  },
  {
   "cell_type": "code",
   "execution_count": 1068,
   "metadata": {},
   "outputs": [
    {
     "data": {
      "text/plain": [
       "301"
      ]
     },
     "execution_count": 1068,
     "metadata": {},
     "output_type": "execute_result"
    }
   ],
   "source": [
    "Q = SMAR*(1+eccsR)/1000-REkm\n",
    "q = SMAR*(1-eccsR)/1000-REkm\n",
    "good = (Q<2500)&(q>200)&(eccsR<1)\n",
    "len(SMAR[good])"
   ]
  },
  {
   "cell_type": "code",
   "execution_count": 888,
   "metadata": {},
   "outputs": [
    {
     "data": {
      "text/plain": [
       "<matplotlib.lines.Line2D at 0x7f2c3ef09280>"
      ]
     },
     "execution_count": 888,
     "metadata": {},
     "output_type": "execute_result"
    },
    {
     "data": {
      "image/png": "[encoded data removed]",
      "text/plain": [
       "<Figure size 432x288 with 1 Axes>"
      ]
     },
     "metadata": {
      "needs_background": "light"
     },
     "output_type": "display_data"
    }
   ],
   "source": [
    "edges,bins,_=plt.hist(SMA/1000-REkm, bins=500);\n",
    "plt.hist(SMAcdf/1000-REkm, bins=bins, histtype='step');\n",
    "plt.xlim(-500,1000)\n",
    "plt.axvline(283, color='r')"
   ]
  },
  {
   "cell_type": "code",
   "execution_count": 1175,
   "metadata": {},
   "outputs": [],
   "source": [
    "unitvecs = np.random.uniform(-1, 1, (len(magv[:,0]), 3))\n",
    "vnormed = (unitvecs.T / np.linalg.norm(unitvecs, axis=1)).T\n",
    "vfrags = (vnormed.T * magv[:,0]).T\n",
    "vfrags_tot = vfrags + vtarget"
   ]
  },
  {
   "cell_type": "code",
   "execution_count": 1178,
   "metadata": {},
   "outputs": [
    {
     "data": {
      "image/png": "[encoded data removed]",
      "text/plain": [
       "<Figure size 432x288 with 1 Axes>"
      ]
     },
     "metadata": {
      "needs_background": "light"
     },
     "output_type": "display_data"
    }
   ],
   "source": [
    "plt.hist(np.log10(np.linalg.norm(vfrags, axis=1)), bins=100);"
   ]
  },
  {
   "cell_type": "code",
   "execution_count": 1167,
   "metadata": {},
   "outputs": [],
   "source": [
    "sim = rebound.Simulation()\n",
    "sim.integrator =\"WHFAST\"\n",
    "sim.dt = 1e-7\n",
    "\n",
    "sim.add(m=Mearth, hash=\"Earth\", r=Ratm)\n",
    "\n",
    "for i in range(len(vfrags)):\n",
    "    sim.add(m=740, vx=vfragtot[i,0]/to_m_per_s, vy=vfragtot[i,0]/to_m_per_s, vz=vfragtot[i,0]/to_m_per_s, \n",
    "            x=6656000.0/aum, y=0, z=0, hash='{}'.format(i+1))"
   ]
  },
  {
   "cell_type": "code",
   "execution_count": 1168,
   "metadata": {},
   "outputs": [],
   "source": [
    "atest = []\n",
    "ps = sim.particles\n",
    "for i in range(len(vfrags)):\n",
    "    atest.append(ps[i+1].a*aukm-REkm)\n",
    "atest = np.array(atest)"
   ]
  },
  {
   "cell_type": "code",
   "execution_count": 1171,
   "metadata": {},
   "outputs": [
    {
     "data": {
      "text/plain": [
       "array([[ 8.19094329e+03, -2.17840077e+02,  2.28956485e+02],\n",
       "       [ 7.68943700e+03,  5.95223655e+01, -1.82331997e+00],\n",
       "       [ 7.81343540e+03,  1.04663156e+02,  5.62988751e+01],\n",
       "       ...,\n",
       "       [ 7.51155987e+03,  4.75971548e+02,  1.18490752e+02],\n",
       "       [ 7.73823918e+03,  9.90798918e+00,  1.70235875e+01],\n",
       "       [ 7.92074010e+03,  1.41063464e+02,  5.12697767e+01]])"
      ]
     },
     "execution_count": 1171,
     "metadata": {},
     "output_type": "execute_result"
    }
   ],
   "source": [
    "vfragtot"
   ]
  },
  {
   "cell_type": "code",
   "execution_count": 950,
   "metadata": {},
   "outputs": [
    {
     "data": {
      "text/plain": [
       "<matplotlib.lines.Line2D at 0x7f2c3501eb20>"
      ]
     },
     "execution_count": 950,
     "metadata": {},
     "output_type": "execute_result"
    },
    {
     "data": {
      "image/png": "[encoded data removed]",
      "text/plain": [
       "<Figure size 432x288 with 1 Axes>"
      ]
     },
     "metadata": {
      "needs_background": "light"
     },
     "output_type": "display_data"
    }
   ],
   "source": [
    "edges,bins,_=plt.hist(atest, bins=500, histtype='step');\n",
    "plt.hist(SMA/1000-REkm, bins=bins, histtype='step')\n",
    "plt.xlim(-1000,2000)\n",
    "plt.axvline(283, color='r')"
   ]
  },
  {
   "cell_type": "code",
   "execution_count": 942,
   "metadata": {},
   "outputs": [
    {
     "data": {
      "text/plain": [
       "<matplotlib.lines.Line2D at 0x7f2c378dd9a0>"
      ]
     },
     "execution_count": 942,
     "metadata": {},
     "output_type": "execute_result"
    },
    {
     "data": {
      "image/png": "[encoded data removed]",
      "text/plain": [
       "<Figure size 432x288 with 1 Axes>"
      ]
     },
     "metadata": {
      "needs_background": "light"
     },
     "output_type": "display_data"
    }
   ],
   "source": [
    "plt.hist(SMA*(1-eccs)/1000-REkm, bins=bins, histtype='step')\n",
    "plt.xlim(-1000,2000)\n",
    "plt.axvline(200, color='r')"
   ]
  },
  {
   "cell_type": "code",
   "execution_count": 902,
   "metadata": {},
   "outputs": [],
   "source": [
    "posfrags = rtarget + np.random.uniform(-10, 10, (len(vfrags),3))\n",
    "x = posfrags[:,0] / aum\n",
    "y = posfrags[:,1] / aum\n",
    "z = posfrags[:,2] / aum"
   ]
  },
  {
   "cell_type": "code",
   "execution_count": 910,
   "metadata": {},
   "outputs": [],
   "source": [
    "posmags = np.sqrt(posfrags[:,0]**2+posfrags[:,1]**2+posfrags[:,2]**2)"
   ]
  },
  {
   "cell_type": "code",
   "execution_count": 914,
   "metadata": {},
   "outputs": [
    {
     "data": {
      "text/plain": [
       "array([4.34507114e-05, 4.34507709e-05, 4.34507126e-05, 4.34506924e-05,\n",
       "       4.34506875e-05, 4.34507648e-05, 4.34507795e-05, 4.34507195e-05,\n",
       "       4.34507704e-05, 4.34507502e-05, 4.34507883e-05, 4.34507508e-05,\n",
       "       4.34506964e-05, 4.34507447e-05, 4.34507332e-05, 4.34507406e-05,\n",
       "       4.34506668e-05, 4.34507394e-05, 4.34507199e-05, 4.34506600e-05,\n",
       "       4.34507832e-05, 4.34507042e-05, 4.34507666e-05, 4.34507208e-05,\n",
       "       4.34506571e-05, 4.34506623e-05, 4.34506631e-05, 4.34507577e-05,\n",
       "       4.34506823e-05, 4.34507168e-05, 4.34507310e-05, 4.34507441e-05,\n",
       "       4.34507401e-05, 4.34506949e-05, 4.34506843e-05, 4.34507424e-05,\n",
       "       4.34507460e-05, 4.34506656e-05, 4.34507069e-05, 4.34507200e-05,\n",
       "       4.34507809e-05, 4.34507472e-05, 4.34507276e-05, 4.34507305e-05,\n",
       "       4.34506828e-05, 4.34507454e-05, 4.34507461e-05, 4.34506957e-05,\n",
       "       4.34506836e-05, 4.34507795e-05, 4.34507511e-05, 4.34506682e-05,\n",
       "       4.34507653e-05, 4.34507113e-05, 4.34507385e-05, 4.34507257e-05,\n",
       "       4.34507122e-05, 4.34507531e-05, 4.34507476e-05, 4.34506587e-05,\n",
       "       4.34507355e-05, 4.34506742e-05, 4.34506892e-05, 4.34506709e-05,\n",
       "       4.34506659e-05, 4.34507349e-05, 4.34507820e-05, 4.34507508e-05,\n",
       "       4.34506636e-05, 4.34507413e-05, 4.34506885e-05, 4.34506612e-05,\n",
       "       4.34507389e-05, 4.34507841e-05, 4.34507039e-05, 4.34506757e-05,\n",
       "       4.34507547e-05, 4.34506887e-05, 4.34506940e-05, 4.34506822e-05,\n",
       "       4.34506941e-05, 4.34506689e-05, 4.34507166e-05, 4.34506763e-05,\n",
       "       4.34507627e-05, 4.34506896e-05, 4.34507799e-05, 4.34507804e-05,\n",
       "       4.34507448e-05, 4.34506733e-05, 4.34507662e-05, 4.34507510e-05,\n",
       "       4.34507779e-05, 4.34507482e-05, 4.34507459e-05, 4.34506740e-05,\n",
       "       4.34507515e-05, 4.34507606e-05, 4.34506707e-05, 4.34506582e-05,\n",
       "       4.34506894e-05, 4.34506563e-05, 4.34506760e-05, 4.34506573e-05,\n",
       "       4.34507116e-05, 4.34507793e-05, 4.34507882e-05, 4.34506606e-05,\n",
       "       4.34507640e-05, 4.34507350e-05, 4.34507843e-05, 4.34506916e-05,\n",
       "       4.34506982e-05, 4.34507541e-05, 4.34507861e-05, 4.34507771e-05,\n",
       "       4.34507499e-05, 4.34507179e-05, 4.34507270e-05, 4.34507487e-05,\n",
       "       4.34507260e-05, 4.34507265e-05, 4.34506833e-05, 4.34507019e-05,\n",
       "       4.34506931e-05, 4.34507609e-05, 4.34507626e-05, 4.34507022e-05,\n",
       "       4.34506764e-05, 4.34507674e-05, 4.34507192e-05, 4.34506989e-05,\n",
       "       4.34507163e-05, 4.34507265e-05, 4.34507206e-05, 4.34507454e-05,\n",
       "       4.34507598e-05, 4.34507283e-05, 4.34506778e-05, 4.34507888e-05,\n",
       "       4.34507521e-05, 4.34507734e-05, 4.34506650e-05, 4.34507118e-05,\n",
       "       4.34507733e-05, 4.34507726e-05, 4.34507572e-05, 4.34506941e-05,\n",
       "       4.34506944e-05, 4.34507416e-05, 4.34507020e-05, 4.34506878e-05,\n",
       "       4.34507805e-05, 4.34507134e-05, 4.34507527e-05, 4.34507317e-05,\n",
       "       4.34507876e-05, 4.34507447e-05, 4.34506877e-05, 4.34507143e-05,\n",
       "       4.34507393e-05, 4.34506694e-05, 4.34507825e-05, 4.34506812e-05,\n",
       "       4.34507021e-05, 4.34507008e-05, 4.34507217e-05, 4.34506588e-05,\n",
       "       4.34507221e-05, 4.34506611e-05, 4.34507193e-05, 4.34507754e-05,\n",
       "       4.34507725e-05, 4.34506956e-05, 4.34506873e-05, 4.34507312e-05,\n",
       "       4.34507275e-05, 4.34507527e-05, 4.34507682e-05, 4.34507826e-05,\n",
       "       4.34507677e-05, 4.34507069e-05, 4.34506775e-05, 4.34506781e-05,\n",
       "       4.34507705e-05, 4.34507750e-05, 4.34507109e-05, 4.34507504e-05,\n",
       "       4.34507041e-05, 4.34507420e-05, 4.34507177e-05, 4.34507150e-05,\n",
       "       4.34506843e-05, 4.34507074e-05, 4.34507030e-05, 4.34507861e-05,\n",
       "       4.34506809e-05, 4.34507883e-05, 4.34507567e-05, 4.34507673e-05,\n",
       "       4.34506563e-05, 4.34506639e-05, 4.34507587e-05, 4.34506811e-05,\n",
       "       4.34507572e-05, 4.34507128e-05, 4.34507388e-05, 4.34506852e-05,\n",
       "       4.34507231e-05, 4.34507247e-05, 4.34506932e-05, 4.34507253e-05,\n",
       "       4.34507362e-05, 4.34506962e-05, 4.34507068e-05, 4.34506607e-05,\n",
       "       4.34507479e-05, 4.34507668e-05, 4.34507084e-05, 4.34506814e-05,\n",
       "       4.34507674e-05, 4.34506674e-05, 4.34506602e-05, 4.34507592e-05,\n",
       "       4.34506976e-05, 4.34507047e-05, 4.34506936e-05, 4.34507849e-05,\n",
       "       4.34507562e-05, 4.34507809e-05, 4.34507608e-05, 4.34507156e-05,\n",
       "       4.34507664e-05, 4.34507670e-05, 4.34507334e-05, 4.34507192e-05,\n",
       "       4.34507856e-05, 4.34506952e-05, 4.34507819e-05, 4.34506781e-05,\n",
       "       4.34507859e-05, 4.34506793e-05, 4.34507274e-05, 4.34507113e-05,\n",
       "       4.34506924e-05, 4.34506978e-05, 4.34507842e-05, 4.34507227e-05,\n",
       "       4.34506560e-05, 4.34506645e-05, 4.34506680e-05, 4.34507599e-05,\n",
       "       4.34507658e-05, 4.34507226e-05, 4.34507447e-05, 4.34507523e-05,\n",
       "       4.34507684e-05, 4.34506859e-05, 4.34506758e-05, 4.34506643e-05,\n",
       "       4.34507266e-05, 4.34506789e-05, 4.34507085e-05, 4.34506907e-05,\n",
       "       4.34507221e-05, 4.34507531e-05, 4.34506702e-05, 4.34507651e-05,\n",
       "       4.34507205e-05, 4.34507219e-05, 4.34507031e-05, 4.34507209e-05,\n",
       "       4.34507602e-05, 4.34506717e-05, 4.34507565e-05, 4.34506739e-05,\n",
       "       4.34506704e-05, 4.34507202e-05, 4.34507558e-05, 4.34507878e-05,\n",
       "       4.34507067e-05, 4.34507369e-05, 4.34507020e-05, 4.34507864e-05,\n",
       "       4.34507356e-05, 4.34506976e-05, 4.34507736e-05, 4.34506608e-05,\n",
       "       4.34507532e-05, 4.34507440e-05, 4.34507599e-05, 4.34506974e-05,\n",
       "       4.34507470e-05, 4.34506943e-05, 4.34507448e-05, 4.34506668e-05,\n",
       "       4.34507270e-05, 4.34507210e-05, 4.34507387e-05, 4.34506695e-05,\n",
       "       4.34506927e-05, 4.34507213e-05, 4.34506607e-05, 4.34507487e-05,\n",
       "       4.34507063e-05, 4.34507392e-05, 4.34506797e-05, 4.34507451e-05,\n",
       "       4.34506998e-05, 4.34507371e-05, 4.34507621e-05, 4.34507731e-05,\n",
       "       4.34507130e-05, 4.34506895e-05, 4.34507568e-05, 4.34506820e-05,\n",
       "       4.34507593e-05, 4.34507299e-05, 4.34507814e-05, 4.34506731e-05,\n",
       "       4.34507071e-05, 4.34507861e-05, 4.34507304e-05, 4.34507579e-05,\n",
       "       4.34507816e-05, 4.34507456e-05, 4.34506805e-05, 4.34507031e-05,\n",
       "       4.34507082e-05, 4.34506722e-05, 4.34507808e-05, 4.34507739e-05,\n",
       "       4.34507669e-05, 4.34506694e-05, 4.34507326e-05, 4.34507662e-05,\n",
       "       4.34507014e-05, 4.34506723e-05, 4.34507687e-05, 4.34507822e-05,\n",
       "       4.34506725e-05, 4.34507215e-05, 4.34507764e-05, 4.34507683e-05,\n",
       "       4.34506825e-05, 4.34507855e-05, 4.34507519e-05, 4.34506609e-05,\n",
       "       4.34507722e-05, 4.34507321e-05, 4.34506938e-05, 4.34507264e-05,\n",
       "       4.34506836e-05, 4.34507539e-05, 4.34507848e-05, 4.34507464e-05,\n",
       "       4.34507077e-05, 4.34507712e-05, 4.34507190e-05, 4.34507169e-05,\n",
       "       4.34506984e-05, 4.34507096e-05, 4.34507808e-05, 4.34507501e-05,\n",
       "       4.34506666e-05, 4.34507550e-05, 4.34507425e-05, 4.34507032e-05,\n",
       "       4.34507570e-05, 4.34507119e-05, 4.34507075e-05, 4.34506786e-05,\n",
       "       4.34506869e-05, 4.34506634e-05, 4.34507595e-05, 4.34507162e-05,\n",
       "       4.34507268e-05, 4.34506895e-05, 4.34506632e-05, 4.34507213e-05,\n",
       "       4.34507302e-05, 4.34507600e-05, 4.34507707e-05, 4.34507392e-05,\n",
       "       4.34507866e-05, 4.34507169e-05, 4.34506578e-05, 4.34506953e-05,\n",
       "       4.34506626e-05, 4.34507094e-05, 4.34507118e-05, 4.34507620e-05,\n",
       "       4.34507170e-05, 4.34506567e-05, 4.34507372e-05, 4.34506600e-05,\n",
       "       4.34506653e-05, 4.34507436e-05, 4.34506786e-05, 4.34507268e-05,\n",
       "       4.34507400e-05, 4.34506671e-05, 4.34506999e-05, 4.34507679e-05,\n",
       "       4.34507227e-05, 4.34506808e-05, 4.34507472e-05, 4.34507235e-05,\n",
       "       4.34507159e-05, 4.34507612e-05, 4.34507589e-05, 4.34506970e-05,\n",
       "       4.34506804e-05, 4.34507401e-05, 4.34506792e-05, 4.34507349e-05,\n",
       "       4.34507799e-05, 4.34507238e-05, 4.34506885e-05, 4.34507246e-05,\n",
       "       4.34507342e-05, 4.34507733e-05, 4.34506774e-05, 4.34507582e-05,\n",
       "       4.34506797e-05, 4.34506710e-05, 4.34507143e-05, 4.34506938e-05,\n",
       "       4.34507472e-05, 4.34506828e-05, 4.34506628e-05, 4.34507861e-05,\n",
       "       4.34507299e-05, 4.34507321e-05, 4.34507622e-05, 4.34506831e-05,\n",
       "       4.34507173e-05, 4.34506912e-05, 4.34506791e-05, 4.34507653e-05,\n",
       "       4.34506837e-05, 4.34507387e-05, 4.34506714e-05, 4.34507445e-05,\n",
       "       4.34507701e-05, 4.34507238e-05, 4.34507803e-05, 4.34507619e-05,\n",
       "       4.34507745e-05, 4.34507268e-05, 4.34507412e-05, 4.34507487e-05,\n",
       "       4.34506631e-05, 4.34507615e-05, 4.34507697e-05, 4.34506715e-05,\n",
       "       4.34507293e-05, 4.34507424e-05, 4.34507016e-05, 4.34507829e-05,\n",
       "       4.34506970e-05, 4.34506809e-05, 4.34506914e-05, 4.34507610e-05,\n",
       "       4.34507160e-05, 4.34506812e-05, 4.34507385e-05, 4.34506900e-05,\n",
       "       4.34507561e-05, 4.34507109e-05, 4.34506980e-05, 4.34507171e-05,\n",
       "       4.34507716e-05, 4.34507212e-05, 4.34507805e-05, 4.34506590e-05,\n",
       "       4.34507529e-05, 4.34507629e-05, 4.34506831e-05, 4.34506565e-05,\n",
       "       4.34507033e-05, 4.34506633e-05, 4.34507256e-05, 4.34507667e-05,\n",
       "       4.34507705e-05, 4.34506915e-05, 4.34507571e-05, 4.34507838e-05,\n",
       "       4.34506668e-05, 4.34506997e-05, 4.34507592e-05, 4.34507337e-05,\n",
       "       4.34507638e-05, 4.34507279e-05, 4.34507672e-05, 4.34507407e-05,\n",
       "       4.34506963e-05, 4.34507037e-05, 4.34507767e-05, 4.34506980e-05,\n",
       "       4.34507456e-05, 4.34506727e-05, 4.34507045e-05, 4.34506775e-05,\n",
       "       4.34507164e-05, 4.34507068e-05, 4.34506885e-05, 4.34507368e-05,\n",
       "       4.34506705e-05, 4.34507492e-05, 4.34507699e-05, 4.34506714e-05,\n",
       "       4.34507509e-05, 4.34507107e-05, 4.34507266e-05, 4.34506996e-05,\n",
       "       4.34507819e-05, 4.34507541e-05, 4.34507235e-05, 4.34506966e-05,\n",
       "       4.34507673e-05, 4.34507605e-05, 4.34506599e-05, 4.34507618e-05,\n",
       "       4.34507206e-05, 4.34506907e-05, 4.34507677e-05, 4.34507729e-05,\n",
       "       4.34507000e-05, 4.34506773e-05, 4.34507074e-05, 4.34507063e-05,\n",
       "       4.34506645e-05, 4.34506600e-05, 4.34507403e-05, 4.34506606e-05,\n",
       "       4.34507012e-05, 4.34507289e-05, 4.34507457e-05, 4.34507238e-05,\n",
       "       4.34507655e-05, 4.34507323e-05, 4.34506763e-05, 4.34507486e-05,\n",
       "       4.34506798e-05, 4.34507308e-05, 4.34507329e-05, 4.34507043e-05,\n",
       "       4.34507343e-05, 4.34507163e-05, 4.34507003e-05, 4.34507130e-05,\n",
       "       4.34507798e-05, 4.34507490e-05, 4.34507622e-05, 4.34506919e-05,\n",
       "       4.34507852e-05, 4.34507051e-05, 4.34506777e-05, 4.34507839e-05,\n",
       "       4.34506905e-05, 4.34507380e-05, 4.34507029e-05, 4.34507561e-05,\n",
       "       4.34507544e-05, 4.34506684e-05, 4.34506839e-05, 4.34506584e-05,\n",
       "       4.34506809e-05, 4.34507532e-05, 4.34506864e-05, 4.34507635e-05,\n",
       "       4.34507542e-05, 4.34507889e-05, 4.34506781e-05, 4.34506749e-05,\n",
       "       4.34507289e-05, 4.34507379e-05, 4.34507621e-05, 4.34507723e-05,\n",
       "       4.34507754e-05, 4.34507228e-05, 4.34506657e-05, 4.34506938e-05,\n",
       "       4.34507012e-05, 4.34506832e-05, 4.34507116e-05, 4.34506810e-05,\n",
       "       4.34507097e-05, 4.34507482e-05, 4.34507193e-05, 4.34507287e-05,\n",
       "       4.34507022e-05, 4.34507302e-05, 4.34507468e-05, 4.34506969e-05,\n",
       "       4.34507207e-05, 4.34507344e-05, 4.34507131e-05, 4.34507546e-05,\n",
       "       4.34506679e-05, 4.34506557e-05, 4.34506750e-05, 4.34507242e-05,\n",
       "       4.34506791e-05, 4.34506680e-05, 4.34507277e-05, 4.34507591e-05,\n",
       "       4.34507330e-05, 4.34507209e-05, 4.34507602e-05, 4.34507250e-05,\n",
       "       4.34507048e-05, 4.34507205e-05, 4.34507750e-05, 4.34507690e-05,\n",
       "       4.34506668e-05, 4.34506897e-05, 4.34507413e-05, 4.34506884e-05,\n",
       "       4.34506780e-05, 4.34506826e-05, 4.34507508e-05, 4.34507433e-05,\n",
       "       4.34507537e-05, 4.34507764e-05, 4.34507377e-05, 4.34506697e-05,\n",
       "       4.34507465e-05, 4.34507565e-05, 4.34507439e-05, 4.34507198e-05,\n",
       "       4.34507241e-05, 4.34507813e-05, 4.34507304e-05, 4.34507385e-05,\n",
       "       4.34506994e-05, 4.34506775e-05, 4.34507206e-05, 4.34507711e-05,\n",
       "       4.34507082e-05, 4.34506662e-05, 4.34507709e-05, 4.34506624e-05,\n",
       "       4.34506829e-05, 4.34507729e-05, 4.34506782e-05, 4.34506822e-05,\n",
       "       4.34506749e-05, 4.34507036e-05, 4.34506898e-05, 4.34506943e-05,\n",
       "       4.34507123e-05, 4.34507783e-05, 4.34507109e-05, 4.34506762e-05,\n",
       "       4.34507559e-05, 4.34507294e-05, 4.34507529e-05, 4.34506819e-05,\n",
       "       4.34507647e-05, 4.34506862e-05, 4.34507229e-05, 4.34506662e-05,\n",
       "       4.34506613e-05, 4.34507486e-05, 4.34507848e-05, 4.34506845e-05,\n",
       "       4.34506774e-05, 4.34507842e-05, 4.34507001e-05, 4.34506702e-05,\n",
       "       4.34507673e-05, 4.34507052e-05, 4.34506801e-05, 4.34506746e-05,\n",
       "       4.34507819e-05, 4.34507162e-05, 4.34506953e-05, 4.34507841e-05,\n",
       "       4.34507552e-05, 4.34507006e-05, 4.34507169e-05, 4.34507064e-05,\n",
       "       4.34507584e-05, 4.34506681e-05, 4.34507264e-05, 4.34507078e-05,\n",
       "       4.34507605e-05, 4.34506665e-05, 4.34507824e-05, 4.34506804e-05,\n",
       "       4.34507371e-05, 4.34507548e-05, 4.34506793e-05, 4.34506863e-05,\n",
       "       4.34507635e-05, 4.34507749e-05, 4.34507307e-05, 4.34507622e-05,\n",
       "       4.34506576e-05, 4.34506741e-05, 4.34507301e-05, 4.34507076e-05,\n",
       "       4.34507289e-05, 4.34507034e-05, 4.34507376e-05, 4.34507594e-05,\n",
       "       4.34506628e-05, 4.34506712e-05, 4.34506763e-05, 4.34507216e-05,\n",
       "       4.34506818e-05, 4.34506568e-05, 4.34507885e-05, 4.34507105e-05])"
      ]
     },
     "execution_count": 914,
     "metadata": {},
     "output_type": "execute_result"
    }
   ],
   "source": []
  },
  {
   "cell_type": "code",
   "execution_count": 850,
   "metadata": {},
   "outputs": [
    {
     "data": {
      "image/png": "[encoded data removed]",
      "text/plain": [
       "<Figure size 432x288 with 1 Axes>"
      ]
     },
     "metadata": {
      "needs_background": "light"
     },
     "output_type": "display_data"
    }
   ],
   "source": [
    "plt.hist(posmags/1000-REkm, bins=100);"
   ]
  },
  {
   "cell_type": "code",
   "execution_count": 813,
   "metadata": {},
   "outputs": [
    {
     "data": {
      "text/plain": [
       "7732.9610154893035"
      ]
     },
     "execution_count": 813,
     "metadata": {},
     "output_type": "execute_result"
    }
   ],
   "source": [
    "def get_target_params(mtarget, vr, r, Q, inc, omega):\n",
    "    '''\n",
    "    get the target velocity and position to be combined with\n",
    "    fragment velocities/positions. The output is in m/s and m\n",
    "    '''\n",
    "    a = (2/(r*1e3) - vr**2/(G*Mearthkg))**(-1)/1000\n",
    "    e = Q/a - 1\n",
    "    f = np.arccos((a/r*(1-e**2)-1)/e)\n",
    "    if f < np.pi:\n",
    "        df = np.pi - f\n",
    "        f = np.pi + df\n",
    "\n",
    "    sim = rebound.Simulation()\n",
    "    sim.integrator =\"ias15\"\n",
    "    sim.dt = 1e-7\n",
    "\n",
    "    sim.add(m=Mearth, hash='Earth', r=Ratm)\n",
    "    sim.add(m=mtarget/Msunkg, a=a/aukm, f=f, e=e, inc=-inc, Omega=0., omega=omega)\n",
    "\n",
    "    ps = sim.particles\n",
    "    x0 = ps[1].x\n",
    "    y0 = ps[1].y \n",
    "    z0 = ps[1].z\n",
    "    vx0 = ps[1].vx * to_m_per_s\n",
    "    vy0 = ps[1].vy * to_m_per_s\n",
    "    vz0 = ps[1].vz * to_m_per_s\n",
    "    vvec = np.array([vx0, vy0, vz0])\n",
    "    unitvec = vvec / mag(vvec)\n",
    "    print(np.array([x0, y0, z0]) * aukm)\n",
    "    print(mag(np.array([x0, y0, z0]))*aukm-REkm)\n",
    "    print(vx0, vy0, vz0)\n",
    "    print(mag(vvec))\n",
    "    vtarget = vvec\n",
    "    rtarget = np.array([x0, y0, z0]) * aum\n",
    "    return vtarget, rtarget"
   ]
  },
  {
   "cell_type": "code",
   "execution_count": 962,
   "metadata": {},
   "outputs": [],
   "source": [
    "vexpl = 250.\n",
    "AMval = 0.04\n",
    "numsample = 720\n",
    "vfragsR, vfrags_totalR, eccsR, SMAR, AMfragsR = vel_dis_rayleigh(vexpl, vtarget, rtarget, numsample, AMval)"
   ]
  },
  {
   "cell_type": "code",
   "execution_count": 963,
   "metadata": {},
   "outputs": [],
   "source": [
    "#vmags = np.sqrt(vfrags[:,0]**2+vfrags[:,1]**2+vfrags[:,2]**2)\n",
    "vmagsR = np.sqrt(vfragsR[:,0]**2+vfragsR[:,1]**2+vfragsR[:,2]**2)\n",
    "vtot = np.sqrt(vfrags_total[:,0]**2+vfrags_total[:,1]**2+vfrags_total[:,2]**2)"
   ]
  },
  {
   "cell_type": "code",
   "execution_count": 451,
   "metadata": {},
   "outputs": [
    {
     "data": {
      "text/plain": [
       "(0, 2000)"
      ]
     },
     "execution_count": 451,
     "metadata": {},
     "output_type": "execute_result"
    },
    {
     "data": {
      "image/png": "[encoded data removed]",
      "text/plain": [
       "<Figure size 432x288 with 1 Axes>"
      ]
     },
     "metadata": {
      "needs_background": "light"
     },
     "output_type": "display_data"
    }
   ],
   "source": [
    "edges, bins, _ = plt.hist((vmags), histtype='step', bins=1000, density=True);\n",
    "plt.hist((vmagsR), histtype='step', bins=bins, density=True);\n",
    "plt.xlim(0,2000)"
   ]
  },
  {
   "cell_type": "code",
   "execution_count": 123,
   "metadata": {},
   "outputs": [],
   "source": [
    "p = SMA*(1-eccs)/1000-REkm\n",
    "q = SMA*(1+eccs)/1000-REkm"
   ]
  },
  {
   "cell_type": "code",
   "execution_count": 128,
   "metadata": {},
   "outputs": [
    {
     "data": {
      "text/plain": [
       "265"
      ]
     },
     "execution_count": 128,
     "metadata": {},
     "output_type": "execute_result"
    }
   ],
   "source": [
    "len(p[p>200])"
   ]
  },
  {
   "cell_type": "code",
   "execution_count": 125,
   "metadata": {},
   "outputs": [
    {
     "data": {
      "image/png": "[encoded data removed]",
      "text/plain": [
       "<Figure size 432x288 with 1 Axes>"
      ]
     },
     "metadata": {
      "needs_background": "light"
     },
     "output_type": "display_data"
    }
   ],
   "source": [
    "plt.hist(np.log10(vmags));"
   ]
  },
  {
   "cell_type": "code",
   "execution_count": 78,
   "metadata": {},
   "outputs": [
    {
     "data": {
      "image/png": "[encoded data removed]",
      "text/plain": [
       "<Figure size 432x288 with 1 Axes>"
      ]
     },
     "metadata": {
      "needs_background": "light"
     },
     "output_type": "display_data"
    }
   ],
   "source": [
    "plt.hist(np.log10(AMfrags));"
   ]
  },
  {
   "cell_type": "code",
   "execution_count": 79,
   "metadata": {},
   "outputs": [
    {
     "data": {
      "text/plain": [
       "<matplotlib.lines.Line2D at 0x7f2c29bd98e0>"
      ]
     },
     "execution_count": 79,
     "metadata": {},
     "output_type": "execute_result"
    },
    {
     "data": {
      "image/png": "[encoded data removed]",
      "text/plain": [
       "<Figure size 432x288 with 1 Axes>"
      ]
     },
     "metadata": {
      "needs_background": "light"
     },
     "output_type": "display_data"
    }
   ],
   "source": [
    "plt.hist(vtot/1e3, bins=200);\n",
    "plt.xlim(7.2,8.2)\n",
    "plt.axvline(mag(vtarget)/1e3, color='r')"
   ]
  },
  {
   "cell_type": "code",
   "execution_count": 80,
   "metadata": {},
   "outputs": [
    {
     "data": {
      "image/png": "[encoded data removed]",
      "text/plain": [
       "<Figure size 432x288 with 1 Axes>"
      ]
     },
     "metadata": {
      "needs_background": "light"
     },
     "output_type": "display_data"
    }
   ],
   "source": [
    "plt.hist(SMA/1e3)\n",
    "plt.yscale('log')"
   ]
  },
  {
   "cell_type": "code",
   "execution_count": 81,
   "metadata": {},
   "outputs": [
    {
     "data": {
      "text/plain": [
       "(-500, 1000)"
      ]
     },
     "execution_count": 81,
     "metadata": {},
     "output_type": "execute_result"
    },
    {
     "data": {
      "image/png": "[encoded data removed]",
      "text/plain": [
       "<Figure size 432x288 with 1 Axes>"
      ]
     },
     "metadata": {
      "needs_background": "light"
     },
     "output_type": "display_data"
    }
   ],
   "source": [
    "edges, bins, _ = plt.hist(SMA[SMA>0]/1e3-REkm, bins=500, histtype='step', lw=2, label='a');\n",
    "plt.hist(q[SMA>0], bins=bins, histtype='step', color='r', lw=2, label='q')\n",
    "plt.hist(p[SMA>0], bins=bins, histtype='step', color='xkcd:light blue', lw=2, label='p')\n",
    "plt.axvline(mag(rtarget)/1e3-REkm, color='k')\n",
    "plt.legend()\n",
    "plt.xlim(-500, 1000)"
   ]
  },
  {
   "cell_type": "code",
   "execution_count": 82,
   "metadata": {},
   "outputs": [
    {
     "name": "stderr",
     "output_type": "stream",
     "text": [
      "/store/users/sthiele/home/js_test/fromaaron/asat_sma.py:19: RuntimeWarning: invalid value encountered in sqrt\n",
      "  return 2*np.pi*np.sqrt(a**3/GM)\n"
     ]
    }
   ],
   "source": [
    "porb = period(SMA, G*Mearthkg)"
   ]
  },
  {
   "cell_type": "code",
   "execution_count": 87,
   "metadata": {},
   "outputs": [
    {
     "data": {
      "text/plain": [
       "395"
      ]
     },
     "execution_count": 87,
     "metadata": {},
     "output_type": "execute_result"
    }
   ],
   "source": [
    "len(porb[(p>0)&(q<2000)])"
   ]
  },
  {
   "cell_type": "code",
   "execution_count": 88,
   "metadata": {},
   "outputs": [
    {
     "data": {
      "text/plain": [
       "(114.12607847988606, 2000)"
      ]
     },
     "execution_count": 88,
     "metadata": {},
     "output_type": "execute_result"
    },
    {
     "data": {
      "image/png": "[encoded data removed]",
      "text/plain": [
       "<Figure size 432x288 with 1 Axes>"
      ]
     },
     "metadata": {
      "needs_background": "light"
     },
     "output_type": "display_data"
    }
   ],
   "source": [
    "plt.scatter(porb[(p>0)&(q<2000)]/3600, p[(p>0)&(q<2000)], s=5)\n",
    "plt.scatter(porb[(p>0)&(q<2000)]/3600, q[(p>0)&(q<2000)], s=5)\n",
    "plt.ylim(top=2000)"
   ]
  },
  {
   "cell_type": "code",
   "execution_count": 72,
   "metadata": {},
   "outputs": [
    {
     "data": {
      "text/plain": [
       "398"
      ]
     },
     "execution_count": 72,
     "metadata": {},
     "output_type": "execute_result"
    }
   ],
   "source": [
    "len(p[(p>200)&(q<2500)&(eccs<1)])"
   ]
  },
  {
   "cell_type": "code",
   "execution_count": 252,
   "metadata": {},
   "outputs": [
    {
     "name": "stdout",
     "output_type": "stream",
     "text": [
      "278.0499999999993\n",
      "0.0016000480765621106\n",
      "[-1245.59931005   752.09134181  6500.13553492]\n",
      "278.0500000000038\n",
      "283.0000000000018\n",
      "7598.593642757243 164.96827627231005 1425.7791509032206\n",
      "7732.9610154893035\n",
      "283.0000000000009\n"
     ]
    },
    {
     "data": {
      "text/plain": [
       "(array([7598.59364276,  164.96827627, 1425.7791509 ]),\n",
       " array([-1245599.31004799,   752091.34181366,  6500135.53492363]))"
      ]
     },
     "execution_count": 252,
     "metadata": {},
     "output_type": "execute_result"
    }
   ],
   "source": [
    "get_target_params(mtarget, vr, r, Q, inc, omega)"
   ]
  },
  {
   "cell_type": "code",
   "execution_count": 89,
   "metadata": {},
   "outputs": [],
   "source": [
    "deorbit_R = 100\n",
    "init_deorbit = (SMA*(1-eccs)/1000 <= REkm + deorbit_R)&(eccs<1.0)\n",
    "ejected = eccs >= 1.0\n",
    "init_deorbit = len(vfrags[init_deorbit])\n",
    "\n",
    "keep = (SMA*(1-eccs)/1000>REkm+deorbit_R)&(eccs<1.0)\n",
    "vfrags = vfrags[keep]\n",
    "AMfrags = AMfrags[keep]\n",
    "vfrags_total = vfrags_total[keep] / to_m_per_s\n",
    "eccs = eccs[keep]\n",
    "SMA = SMA[keep]\n",
    "Lcvals = Lcvals[keep]\n",
    "porb = period(SMA, G*Mearthkg)\n",
    "q = SMA*(1+eccs)/1e3-REkm\n",
    "p = SMA*(1-eccs)/1e3-REkm\n",
    "\n",
    "NFOLLOW = init_deorbit + len(vfrags)"
   ]
  },
  {
   "cell_type": "code",
   "execution_count": 99,
   "metadata": {},
   "outputs": [
    {
     "data": {
      "image/png": "[encoded data removed]",
      "text/plain": [
       "<Figure size 432x288 with 1 Axes>"
      ]
     },
     "metadata": {
      "needs_background": "light"
     },
     "output_type": "display_data"
    }
   ],
   "source": []
  },
  {
   "cell_type": "code",
   "execution_count": 396,
   "metadata": {},
   "outputs": [],
   "source": [
    "sys.path.insert(1, '/store/users/sthiele/home/junkyspace/')\n",
    "from NSBM_functions import *"
   ]
  },
  {
   "cell_type": "code",
   "execution_count": 91,
   "metadata": {},
   "outputs": [
    {
     "data": {
      "text/plain": [
       "398"
      ]
     },
     "execution_count": 91,
     "metadata": {},
     "output_type": "execute_result"
    }
   ],
   "source": [
    "len(SMA[(p>200)&(q<2500)])"
   ]
  },
  {
   "cell_type": "code",
   "execution_count": 92,
   "metadata": {},
   "outputs": [
    {
     "data": {
      "text/plain": [
       "398"
      ]
     },
     "execution_count": 92,
     "metadata": {},
     "output_type": "execute_result"
    }
   ],
   "source": [
    "len(vfrags[(SMA*(1+eccs)/1000-REkm<2500)&(SMA*(1-eccs)/1000 > REkm + 200)&(eccs<1.0)])"
   ]
  },
  {
   "cell_type": "code",
   "execution_count": 468,
   "metadata": {},
   "outputs": [],
   "source": [
    "nsbm3 = pd.read_hdf('satall/sims/NSBM/data_0.003_5000_0.13_3.0.hdf',\n",
    "                    key='data')\n",
    "small = nsbm3.loc[nsbm3.Lc<=0.01]\n",
    "numsmall = np.sum(nums[L_mids<=0.01])\n",
    "onecm = nsbm3.loc[(nsbm3.Lc>0.01)]\n",
    "num1cm = np.sum(nums[L_mids>0.01])\n",
    "fivecm = nsbm3.loc[(nsbm3.Lc>0.05)]\n",
    "num5cm = np.sum(nums[L_mids>0.05])\n",
    "tencm = nsbm3.loc[(nsbm3.Lc>0.1)]\n",
    "num10cm = np.sum(nums[L_mids>0.1])"
   ]
  },
  {
   "cell_type": "code",
   "execution_count": 15,
   "metadata": {},
   "outputs": [
    {
     "name": "stdout",
     "output_type": "stream",
     "text": [
      "88.1570775344018\n",
      "28.132867825765995\n",
      "4.695441232737996\n",
      "2.0838923121859976\n"
     ]
    }
   ],
   "source": [
    "print(p_geq_k(np.sum(small.colprob.values)*numsmall/len(small), 1))\n",
    "print(p_geq_k(np.sum(onecm.colprob.values)*num1cm/len(onecm), 1))\n",
    "print(p_geq_k(np.sum(fivecm.colprob.values)*num5cm/len(fivecm), 1))\n",
    "print(p_geq_k(np.sum(tencm.colprob.values)*num10cm/len(tencm), 1))"
   ]
  },
  {
   "cell_type": "code",
   "execution_count": 16,
   "metadata": {},
   "outputs": [],
   "source": [
    "rayleigh = pd.read_hdf('satall/sims/rayleigh/data_0.04_1000_0.13_3.0.hdf', key='data')"
   ]
  },
  {
   "cell_type": "code",
   "execution_count": 31,
   "metadata": {},
   "outputs": [
    {
     "name": "stdout",
     "output_type": "stream",
     "text": [
      "0.053159188716434796\n"
     ]
    },
    {
     "data": {
      "text/plain": [
       "[5.177094689874695, 0.002405978850195112, 0.0]"
      ]
     },
     "execution_count": 31,
     "metadata": {},
     "output_type": "execute_result"
    }
   ],
   "source": [
    "kvals, probs = get_pmfs(rayleigh, num10cm, kvals=[1,3,10])\n",
    "probs"
   ]
  },
  {
   "cell_type": "code",
   "execution_count": 121,
   "metadata": {},
   "outputs": [
    {
     "name": "stdout",
     "output_type": "stream",
     "text": [
      "2.463697332784759\n"
     ]
    },
    {
     "data": {
      "text/plain": [
       "[91.4880347237476, 70.5171285758879, 10.402499195577997, 0.024746872140402054]"
      ]
     },
     "execution_count": 121,
     "metadata": {},
     "output_type": "execute_result"
    }
   ],
   "source": [
    "kvals, probs = get_pmfs(nsbm3, N_tot, kvals=[1,2,5,10])\n",
    "probs"
   ]
  },
  {
   "cell_type": "code",
   "execution_count": 136,
   "metadata": {},
   "outputs": [
    {
     "data": {
      "image/png": "[encoded data removed]",
      "text/plain": [
       "<Figure size 432x288 with 1 Axes>"
      ]
     },
     "metadata": {
      "needs_background": "light"
     },
     "output_type": "display_data"
    }
   ],
   "source": [
    "bins, edges, _ = plt.hist(np.log10(AMfrags), bins=100);"
   ]
  },
  {
   "cell_type": "code",
   "execution_count": 142,
   "metadata": {},
   "outputs": [],
   "source": [
    "mids = (edges[:-1]+edges[1:])/2"
   ]
  },
  {
   "cell_type": "code",
   "execution_count": 143,
   "metadata": {},
   "outputs": [
    {
     "data": {
      "text/plain": [
       "(array([65]),)"
      ]
     },
     "execution_count": 143,
     "metadata": {},
     "output_type": "execute_result"
    }
   ],
   "source": [
    "np.where(bins==bins.max())"
   ]
  },
  {
   "cell_type": "code",
   "execution_count": 172,
   "metadata": {},
   "outputs": [
    {
     "data": {
      "text/plain": [
       "777"
      ]
     },
     "execution_count": 172,
     "metadata": {},
     "output_type": "execute_result"
    }
   ],
   "source": [
    "len(Lcvals[Lcvals>=0.1])"
   ]
  },
  {
   "cell_type": "code",
   "execution_count": 169,
   "metadata": {},
   "outputs": [
    {
     "data": {
      "text/plain": [
       "<matplotlib.collections.PathCollection at 0x7f6a977e88e0>"
      ]
     },
     "execution_count": 169,
     "metadata": {},
     "output_type": "execute_result"
    },
    {
     "data": {
      "image/png": "[encoded data removed]",
      "text/plain": [
       "<Figure size 432x288 with 1 Axes>"
      ]
     },
     "metadata": {
      "needs_background": "light"
     },
     "output_type": "display_data"
    }
   ],
   "source": [
    "plt.scatter(np.log10(nsbm3.Lc.values), np.log10(nsbm3.AM.values), s=1)"
   ]
  },
  {
   "cell_type": "code",
   "execution_count": 109,
   "metadata": {},
   "outputs": [
    {
     "name": "stdout",
     "output_type": "stream",
     "text": [
      "18.12010392996452\n",
      "15.876821851040221\n",
      "2.243282078924299\n",
      "0.14847645843505058\n",
      "0.04221229718405939\n"
     ]
    },
    {
     "data": {
      "text/plain": [
       "[<matplotlib.lines.Line2D at 0x7f6a97d96a30>]"
      ]
     },
     "execution_count": 109,
     "metadata": {},
     "output_type": "execute_result"
    },
    {
     "data": {
      "image/png": "[encoded data removed]",
      "text/plain": [
       "<Figure size 432x288 with 1 Axes>"
      ]
     },
     "metadata": {
      "needs_background": "light"
     },
     "output_type": "display_data"
    }
   ],
   "source": [
    "kvals, probs = get_pmfs(rayleigh, N_tot, kvals=None, kmax=40)\n",
    "plt.plot(kvals, probs)\n",
    "kvals, probs = get_pmfs(rayleigh, numsmall, kvals=None, kmax=40)\n",
    "plt.plot(kvals, probs)\n",
    "kvals, probs = get_pmfs(rayleigh, num1cm, kvals=None, kmax=40)\n",
    "plt.plot(kvals, probs)\n",
    "kvals, probs = get_pmfs(rayleigh, num5cm, kvals=None, kmax=40)\n",
    "plt.plot(kvals, probs)\n",
    "kvals, probs = get_pmfs(rayleigh, num10cm, kvals=None, kmax=40)\n",
    "plt.plot(kvals, probs)"
   ]
  },
  {
   "cell_type": "code",
   "execution_count": 18,
   "metadata": {},
   "outputs": [],
   "source": [
    "def get_pmfs(df, scale, kvals, kmax=None):\n",
    "    if kmax!=None:\n",
    "        kvals = np.arange(1, kmax+1, 1)\n",
    "    lam = np.sum(df.colprob.values) * scale / len(df)\n",
    "    print(lam)\n",
    "    probs = []\n",
    "    for k in kvals:\n",
    "        p = p_geq_k(lam, k)\n",
    "        probs.append(p)\n",
    "    return kvals, (probs)"
   ]
  },
  {
   "cell_type": "code",
   "execution_count": 36,
   "metadata": {},
   "outputs": [
    {
     "name": "stdout",
     "output_type": "stream",
     "text": [
      "2.463697332784759\n",
      "2.133439757124995\n",
      "0.3303511582643131\n",
      "0.048092540509163006\n",
      "0.021059117934324186\n"
     ]
    },
    {
     "data": {
      "text/plain": [
       "Text(0, 0.5, 'P($\\\\geq$ k)')"
      ]
     },
     "execution_count": 36,
     "metadata": {},
     "output_type": "execute_result"
    },
    {
     "data": {
      "image/png": "[encoded data removed]",
      "text/plain": [
       "<Figure size 576x576 with 1 Axes>"
      ]
     },
     "metadata": {
      "needs_background": "light"
     },
     "output_type": "display_data"
    }
   ],
   "source": [
    "plt.figure(figsize=(8,8))\n",
    "kvals = None\n",
    "kmax = 8\n",
    "dflist = [nsbm3, small, onecm, fivecm, tencm]\n",
    "scales = [N_tot, numsmall, num1cm, num5cm, num10cm]\n",
    "for i, df in enumerate(dflist):\n",
    "    scale = scales[i]\n",
    "    kvals, probs = get_pmfs(df, scale, kvals, kmax)\n",
    "    probs = np.array(probs)\n",
    "    plt.plot(kvals[probs>0], probs[probs>0])\n",
    "\n",
    "plt.xlabel('k events')\n",
    "plt.ylabel('P($\\geq$ k)')"
   ]
  },
  {
   "cell_type": "code",
   "execution_count": 21,
   "metadata": {},
   "outputs": [
    {
     "name": "stdout",
     "output_type": "stream",
     "text": [
      "2.463697332784759\n"
     ]
    },
    {
     "data": {
      "text/plain": [
       "[91.4880347237476, 44.6841458046073, 0.024746872140402054]"
      ]
     },
     "execution_count": 21,
     "metadata": {},
     "output_type": "execute_result"
    }
   ],
   "source": [
    "kvals = [1,3,10]\n",
    "kvals, probs = get_pmfs(nsbm3, N_tot, kvals)\n",
    "probs"
   ]
  },
  {
   "cell_type": "code",
   "execution_count": 23,
   "metadata": {},
   "outputs": [
    {
     "name": "stdout",
     "output_type": "stream",
     "text": [
      "2.133439757124995\n"
     ]
    },
    {
     "data": {
      "text/plain": [
       "[88.1570775344018, 35.938999041485296, 0.007874072013802635]"
      ]
     },
     "execution_count": 23,
     "metadata": {},
     "output_type": "execute_result"
    }
   ],
   "source": [
    "kvals = [1,3,10]\n",
    "kvals, probs = get_pmfs(small, numsmall, kvals)\n",
    "probs"
   ]
  },
  {
   "cell_type": "code",
   "execution_count": 24,
   "metadata": {},
   "outputs": [
    {
     "name": "stdout",
     "output_type": "stream",
     "text": [
      "0.3303511582643131\n"
     ]
    },
    {
     "data": {
      "text/plain": [
       "[28.132867825765995, 0.4699795696012976, 3.160027794990583e-10]"
      ]
     },
     "execution_count": 24,
     "metadata": {},
     "output_type": "execute_result"
    }
   ],
   "source": [
    "kvals, probs = get_pmfs(onecm, num1cm, kvals)\n",
    "probs"
   ]
  },
  {
   "cell_type": "code",
   "execution_count": 25,
   "metadata": {},
   "outputs": [
    {
     "name": "stdout",
     "output_type": "stream",
     "text": [
      "0.048092540509163006\n"
     ]
    },
    {
     "data": {
      "text/plain": [
       "[4.695441232737996, 0.0017882821787051917, 0.0]"
      ]
     },
     "execution_count": 25,
     "metadata": {},
     "output_type": "execute_result"
    }
   ],
   "source": [
    "kvals, probs = get_pmfs(fivecm, num5cm, kvals)\n",
    "probs"
   ]
  },
  {
   "cell_type": "code",
   "execution_count": 26,
   "metadata": {},
   "outputs": [
    {
     "name": "stdout",
     "output_type": "stream",
     "text": [
      "0.021059117934324186\n"
     ]
    },
    {
     "data": {
      "text/plain": [
       "[2.0838923121859976, 0.00015321930969536268, 0.0]"
      ]
     },
     "execution_count": 26,
     "metadata": {},
     "output_type": "execute_result"
    }
   ],
   "source": [
    "kvals, probs = get_pmfs(tencm, num10cm, kvals)\n",
    "probs"
   ]
  },
  {
   "cell_type": "code",
   "execution_count": 85,
   "metadata": {},
   "outputs": [
    {
     "data": {
      "image/png": "[encoded data removed]",
      "text/plain": [
       "<Figure size 576x720 with 1 Axes>"
      ]
     },
     "metadata": {
      "needs_background": "light"
     },
     "output_type": "display_data"
    }
   ],
   "source": [
    "plt.figure(figsize=(8,10))\n",
    "plt.plot(L_mids, nums, drawstyle='steps-mid', lw=2)\n",
    "plt.yscale('log')\n",
    "plt.xscale('log')"
   ]
  },
  {
   "cell_type": "code",
   "execution_count": 94,
   "metadata": {},
   "outputs": [
    {
     "name": "stdout",
     "output_type": "stream",
     "text": [
      "\n",
      "satall, nsbm1\n",
      "k =  1\n",
      "1.490884800000003\n",
      "1.7391636000000044\n",
      "k =  5\n",
      "0.0\n",
      "0.0\n",
      "k =  10\n",
      "0.0\n",
      "0.0\n",
      "\n",
      "satall, r1\n",
      "k =  1\n",
      "5.287791909999995\n",
      "6.14829576\n",
      "k =  5\n",
      "3.7999999813465024e-07\n",
      "8.10000000406319e-07\n",
      "k =  10\n",
      "0.0\n",
      "0.0\n",
      "\n",
      "satall, r2\n",
      "k =  1\n",
      "6.612804589999999\n",
      "7.6800405900000035\n",
      "k =  5\n",
      "1.1799999977135656e-06\n",
      "2.5399999992181677e-06\n",
      "k =  10\n",
      "0.0\n",
      "0.0\n",
      "\n",
      "satall, nsbm2\n",
      "k =  1\n",
      "0.6788453299999997\n",
      "89.68853398\n",
      "k =  5\n",
      "0.0\n",
      "8.05015376\n",
      "k =  10\n",
      "0.0\n",
      "0.01305258999999559\n",
      "\n",
      "satall, r1\n",
      "k =  1\n",
      "5.287791909999995\n",
      "99.99999865\n",
      "k =  5\n",
      "3.7999999813465024e-07\n",
      "99.99234622\n",
      "k =  10\n",
      "0.0\n",
      "98.55892847\n",
      "\n",
      "satall, r2\n",
      "k =  1\n",
      "6.612804589999999\n",
      "99.99999998999999\n",
      "k =  5\n",
      "1.1799999977135656e-06\n",
      "99.99983324\n",
      "k =  10\n",
      "0.0\n",
      "99.90966293\n",
      "\n",
      "sat12000, nsbm1\n",
      "k =  1\n",
      "0.31687088999999835\n",
      "0.37000659999999463\n",
      "k =  5\n",
      "0.0\n",
      "0.0\n",
      "k =  10\n",
      "0.0\n",
      "0.0\n",
      "\n",
      "sat12000, r1\n",
      "k =  1\n",
      "1.1631307200000052\n",
      "1.3572050499999988\n",
      "k =  5\n",
      "0.0\n",
      "0.0\n",
      "k =  10\n",
      "0.0\n",
      "0.0\n",
      "\n",
      "sat12000, r2\n",
      "k =  1\n",
      "1.465964360000005\n",
      "1.7101292700000048\n",
      "k =  5\n",
      "0.0\n",
      "0.0\n",
      "k =  10\n",
      "0.0\n",
      "0.0\n",
      "\n",
      "sat12000, nsbm2\n",
      "k =  1\n",
      "0.14390573000000462\n",
      "38.14165023\n",
      "k =  5\n",
      "0.0\n",
      "0.014311079999995702\n",
      "k =  10\n",
      "0.0\n",
      "1.000000082740371e-08\n",
      "\n",
      "sat12000, r1\n",
      "k =  1\n",
      "1.1631307200000052\n",
      "97.98025269\n",
      "k =  5\n",
      "0.0\n",
      "35.206346249999996\n",
      "k =  10\n",
      "0.0\n",
      "0.6915246799999997\n",
      "\n",
      "sat12000, r2\n",
      "k =  1\n",
      "1.465964360000005\n",
      "99.27424456\n",
      "k =  5\n",
      "0.0\n",
      "54.6376297\n",
      "k =  10\n",
      "0.0\n",
      "2.921332489999995\n",
      "\n",
      "sat2019, nsbm1\n",
      "k =  1\n",
      "0.03654488000000011\n",
      "0.042683109999996915\n",
      "k =  5\n",
      "0.0\n",
      "0.0\n",
      "k =  10\n",
      "0.0\n",
      "0.0\n",
      "\n",
      "sat2019, r1\n",
      "k =  1\n",
      "0.223728209999996\n",
      "0.26126541000000003\n",
      "k =  5\n",
      "0.0\n",
      "0.0\n",
      "k =  10\n",
      "0.0\n",
      "0.0\n",
      "\n",
      "sat2019, r2\n",
      "k =  1\n",
      "0.27877425000000233\n",
      "0.3255320099999959\n",
      "k =  5\n",
      "0.0\n",
      "0.0\n",
      "k =  10\n",
      "0.0\n",
      "0.0\n",
      "\n",
      "sat2019, nsbm2\n",
      "k =  1\n",
      "0.02607098000000363\n",
      "8.329305819999998\n",
      "k =  5\n",
      "0.0\n",
      "3.859999997413155e-06\n",
      "k =  10\n",
      "0.0\n",
      "0.0\n",
      "\n",
      "sat2019, r1\n",
      "k =  1\n",
      "0.223728209999996\n",
      "52.623796\n",
      "k =  5\n",
      "0.0\n",
      "0.10464245000000316\n",
      "k =  10\n",
      "0.0\n",
      "7.599999962693005e-07\n",
      "\n",
      "sat2019, r2\n",
      "k =  1\n",
      "0.27877425000000233\n",
      "60.588436609999995\n",
      "k =  5\n",
      "0.0\n",
      "0.2708821799999983\n",
      "k =  10\n",
      "0.0\n",
      "5.810000003325655e-06\n"
     ]
    }
   ],
   "source": [
    "kvals = [1, 5, 10] # np.arange(1, 60, 1)\n",
    "satfields = ['satall', 'sat12000', 'sat2019']\n",
    "\n",
    "#plt.figure()\n",
    "\n",
    "for satfield in satfields:\n",
    "    probs = []\n",
    "    scaled_probs = []\n",
    "    \n",
    "    nsbm1 = pd.read_hdf(satfield + '/sims/NSBM/data_0.1_1000_0.13_3.0.hdf', \n",
    "                        key='data')\n",
    "    r1 = pd.read_hdf(satfield + '/sims/rayleigh/data_0.05_1000_0.13_3.0.hdf', \n",
    "                     key='data')\n",
    "    r2 = pd.read_hdf(satfield + '/sims/rayleigh/data_0.04_1000_0.13_3.0.hdf', \n",
    "                     key='data')\n",
    "    nsbm2 = pd.read_hdf(satfield + '/sims/NSBM/data_0.003_1000_0.13_3.0.hdf', \n",
    "                        key='data')\n",
    "    \n",
    "    scales = [1168, 1168, 1168, 333536, 333536, 333536]\n",
    "    rlist = [nsbm1, r1, r2, nsbm2, r1, r2]\n",
    "    names = ['nsbm1', 'r1', 'r2', 'nsbm2', 'r1', 'r2']\n",
    "    \n",
    "    for i, df in enumerate(rlist):\n",
    "        print('\\n' + satfield + ', ' + names[i])\n",
    "        probs = []\n",
    "        scaled_probs = []\n",
    "        lam = np.sum(df.colprob.values)\n",
    "        scaled_lam = np.sum(df.colprob.values)*scales[i]/len(df)\n",
    "        \n",
    "        for k in kvals:\n",
    "            print('k = ', k)\n",
    "            colprob = prob_more_than(lam, k)\n",
    "            print(colprob) \n",
    "            probs.append(colprob)\n",
    "            colprob_scaled = prob_more_than(scaled_lam, k)\n",
    "            print(colprob_scaled) \n",
    "            scaled_probs.append(colprob_scaled)\n",
    "\n",
    "        #plt.plot(kvals, probs, label=names[i])\n",
    "\n",
    "#plt.legend()\n",
    "#plt.xlabel('k')\n",
    "#plt.ylabel('scaled probability of more than k collisions')\n",
    "\n"
   ]
  },
  {
   "cell_type": "code",
   "execution_count": null,
   "metadata": {},
   "outputs": [],
   "source": []
  }
 ],
 "metadata": {
  "kernelspec": {
   "display_name": "Python 3",
   "language": "python",
   "name": "python3"
  },
  "language_info": {
   "codemirror_mode": {
    "name": "ipython",
    "version": 3
   },
   "file_extension": ".py",
   "mimetype": "text/x-python",
   "name": "python",
   "nbconvert_exporter": "python",
   "pygments_lexer": "ipython3",
   "version": "3.8.10"
  }
 },
 "nbformat": 4,
 "nbformat_minor": 4
}
